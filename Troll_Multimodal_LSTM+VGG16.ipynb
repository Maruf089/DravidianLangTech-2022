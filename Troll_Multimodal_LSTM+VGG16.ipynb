{
 "cells": [
  {
   "cell_type": "code",
   "execution_count": null,
   "metadata": {
    "colab": {
     "base_uri": "https://localhost:8080/"
    },
    "id": "2iNLvRyHd4gv",
    "outputId": "610d2363-1293-43d4-f04c-73b6405f82b4"
   },
   "outputs": [
    {
     "name": "stdout",
     "output_type": "stream",
     "text": [
      "Drive already mounted at /content/drive; to attempt to forcibly remount, call drive.mount(\"/content/drive\", force_remount=True).\n"
     ]
    }
   ],
   "source": [
    "#from google.colab import drive \n",
    "#drive.mount('/content/drive')"
   ]
  },
  {
   "cell_type": "code",
   "execution_count": 1,
   "metadata": {
    "id": "gDUDDv0tSgSF"
   },
   "outputs": [
    {
     "name": "stderr",
     "output_type": "stream",
     "text": [
      "C:\\Users\\maruf\\Anaconda3\\lib\\site-packages\\pandas\\compat\\_optional.py:138: UserWarning: Pandas requires version '2.7.0' or newer of 'numexpr' (version '2.6.9' currently installed).\n",
      "  warnings.warn(msg, UserWarning)\n"
     ]
    }
   ],
   "source": [
    "from keras import backend as K\n",
    "K.clear_session()"
   ]
  },
  {
   "cell_type": "code",
   "execution_count": 2,
   "metadata": {
    "id": "XXIPVWuySf-E"
   },
   "outputs": [],
   "source": [
    "from keras import backend as K\n",
    "def recall_m(y_true, y_pred):\n",
    "    true_positives = K.sum(K.round(K.clip(y_true * y_pred, 0, 1)))\n",
    "    possible_positives = K.sum(K.round(K.clip(y_true, 0, 1)))\n",
    "    recall = true_positives / (possible_positives + K.epsilon())\n",
    "    return recall\n",
    "\n",
    "def precision_m(y_true, y_pred):\n",
    "    true_positives = K.sum(K.round(K.clip(y_true * y_pred, 0, 1)))\n",
    "    predicted_positives = K.sum(K.round(K.clip(y_pred, 0, 1)))\n",
    "    precision = true_positives / (predicted_positives + K.epsilon())\n",
    "    return precision\n",
    "\n",
    "def f1_m(y_true, y_pred):\n",
    "    precision = precision_m(y_true, y_pred)\n",
    "    recall = recall_m(y_true, y_pred)\n",
    "    return 2*((precision*recall)/(precision+recall+K.epsilon()))"
   ]
  },
  {
   "cell_type": "code",
   "execution_count": 3,
   "metadata": {
    "id": "gdGiYYl_eHUp"
   },
   "outputs": [
    {
     "name": "stderr",
     "output_type": "stream",
     "text": [
      "C:\\Users\\maruf\\Anaconda3\\lib\\site-packages\\sklearn\\utils\\validation.py:37: DeprecationWarning: distutils Version classes are deprecated. Use packaging.version instead.\n",
      "  LARGE_SPARSE_SUPPORTED = LooseVersion(scipy_version) >= '0.14.0'\n",
      "C:\\Users\\maruf\\Anaconda3\\lib\\site-packages\\sklearn\\feature_extraction\\image.py:167: DeprecationWarning: `np.int` is a deprecated alias for the builtin `int`. To silence this warning, use `int` by itself. Doing this will not modify any behavior and is safe. When replacing `np.int`, you may wish to use e.g. `np.int64` or `np.int32` to specify the precision. If you wish to review your current use, check the release note link for additional information.\n",
      "Deprecated in NumPy 1.20; for more details and guidance: https://numpy.org/devdocs/release/1.20.0-notes.html#deprecations\n",
      "  dtype=np.int):\n",
      "C:\\Users\\maruf\\Anaconda3\\lib\\site-packages\\sklearn\\linear_model\\least_angle.py:35: DeprecationWarning: `np.float` is a deprecated alias for the builtin `float`. To silence this warning, use `float` by itself. Doing this will not modify any behavior and is safe. If you specifically wanted the numpy scalar type, use `np.float64` here.\n",
      "Deprecated in NumPy 1.20; for more details and guidance: https://numpy.org/devdocs/release/1.20.0-notes.html#deprecations\n",
      "  eps=np.finfo(np.float).eps,\n",
      "C:\\Users\\maruf\\Anaconda3\\lib\\site-packages\\sklearn\\linear_model\\least_angle.py:597: DeprecationWarning: `np.float` is a deprecated alias for the builtin `float`. To silence this warning, use `float` by itself. Doing this will not modify any behavior and is safe. If you specifically wanted the numpy scalar type, use `np.float64` here.\n",
      "Deprecated in NumPy 1.20; for more details and guidance: https://numpy.org/devdocs/release/1.20.0-notes.html#deprecations\n",
      "  eps=np.finfo(np.float).eps, copy_X=True, fit_path=True,\n",
      "C:\\Users\\maruf\\Anaconda3\\lib\\site-packages\\sklearn\\linear_model\\least_angle.py:836: DeprecationWarning: `np.float` is a deprecated alias for the builtin `float`. To silence this warning, use `float` by itself. Doing this will not modify any behavior and is safe. If you specifically wanted the numpy scalar type, use `np.float64` here.\n",
      "Deprecated in NumPy 1.20; for more details and guidance: https://numpy.org/devdocs/release/1.20.0-notes.html#deprecations\n",
      "  eps=np.finfo(np.float).eps, copy_X=True, fit_path=True,\n",
      "C:\\Users\\maruf\\Anaconda3\\lib\\site-packages\\sklearn\\linear_model\\least_angle.py:862: DeprecationWarning: `np.float` is a deprecated alias for the builtin `float`. To silence this warning, use `float` by itself. Doing this will not modify any behavior and is safe. If you specifically wanted the numpy scalar type, use `np.float64` here.\n",
      "Deprecated in NumPy 1.20; for more details and guidance: https://numpy.org/devdocs/release/1.20.0-notes.html#deprecations\n",
      "  eps=np.finfo(np.float).eps, positive=False):\n",
      "C:\\Users\\maruf\\Anaconda3\\lib\\site-packages\\sklearn\\linear_model\\least_angle.py:1097: DeprecationWarning: `np.float` is a deprecated alias for the builtin `float`. To silence this warning, use `float` by itself. Doing this will not modify any behavior and is safe. If you specifically wanted the numpy scalar type, use `np.float64` here.\n",
      "Deprecated in NumPy 1.20; for more details and guidance: https://numpy.org/devdocs/release/1.20.0-notes.html#deprecations\n",
      "  max_n_alphas=1000, n_jobs=None, eps=np.finfo(np.float).eps,\n",
      "C:\\Users\\maruf\\Anaconda3\\lib\\site-packages\\sklearn\\linear_model\\least_angle.py:1344: DeprecationWarning: `np.float` is a deprecated alias for the builtin `float`. To silence this warning, use `float` by itself. Doing this will not modify any behavior and is safe. If you specifically wanted the numpy scalar type, use `np.float64` here.\n",
      "Deprecated in NumPy 1.20; for more details and guidance: https://numpy.org/devdocs/release/1.20.0-notes.html#deprecations\n",
      "  max_n_alphas=1000, n_jobs=None, eps=np.finfo(np.float).eps,\n",
      "C:\\Users\\maruf\\Anaconda3\\lib\\site-packages\\sklearn\\linear_model\\least_angle.py:1480: DeprecationWarning: `np.float` is a deprecated alias for the builtin `float`. To silence this warning, use `float` by itself. Doing this will not modify any behavior and is safe. If you specifically wanted the numpy scalar type, use `np.float64` here.\n",
      "Deprecated in NumPy 1.20; for more details and guidance: https://numpy.org/devdocs/release/1.20.0-notes.html#deprecations\n",
      "  eps=np.finfo(np.float).eps, copy_X=True, positive=False):\n",
      "C:\\Users\\maruf\\Anaconda3\\lib\\site-packages\\sklearn\\linear_model\\randomized_l1.py:152: DeprecationWarning: `np.float` is a deprecated alias for the builtin `float`. To silence this warning, use `float` by itself. Doing this will not modify any behavior and is safe. If you specifically wanted the numpy scalar type, use `np.float64` here.\n",
      "Deprecated in NumPy 1.20; for more details and guidance: https://numpy.org/devdocs/release/1.20.0-notes.html#deprecations\n",
      "  precompute=False, eps=np.finfo(np.float).eps,\n",
      "C:\\Users\\maruf\\Anaconda3\\lib\\site-packages\\sklearn\\linear_model\\randomized_l1.py:320: DeprecationWarning: `np.float` is a deprecated alias for the builtin `float`. To silence this warning, use `float` by itself. Doing this will not modify any behavior and is safe. If you specifically wanted the numpy scalar type, use `np.float64` here.\n",
      "Deprecated in NumPy 1.20; for more details and guidance: https://numpy.org/devdocs/release/1.20.0-notes.html#deprecations\n",
      "  eps=np.finfo(np.float).eps, random_state=None,\n",
      "C:\\Users\\maruf\\Anaconda3\\lib\\site-packages\\sklearn\\linear_model\\randomized_l1.py:580: DeprecationWarning: `np.float` is a deprecated alias for the builtin `float`. To silence this warning, use `float` by itself. Doing this will not modify any behavior and is safe. If you specifically wanted the numpy scalar type, use `np.float64` here.\n",
      "Deprecated in NumPy 1.20; for more details and guidance: https://numpy.org/devdocs/release/1.20.0-notes.html#deprecations\n",
      "  eps=4 * np.finfo(np.float).eps, n_jobs=None,\n"
     ]
    }
   ],
   "source": [
    "#Importing all the libraries needed\n",
    "import keras\n",
    "import tensorflow\n",
    "import h5py\n",
    "from keras import optimizers, preprocessing, Input\n",
    "from keras.models import load_model, Model\n",
    "from keras.layers import Bidirectional\n",
    "from keras.layers.core import Reshape, Dropout\n",
    "from keras.utils.vis_utils import  plot_model\n",
    "import os\n",
    "import itertools\n",
    "import matplotlib.pyplot as plt\n",
    "from keras.layers import Conv1D, MaxPooling1D, Flatten, GlobalAveragePooling3D\n",
    "from keras import regularizers\n",
    "import seaborn as sns\n",
    "from sklearn.metrics import confusion_matrix\n",
    "from keras.applications.inception_v3 import InceptionV3\n",
    "import nltk\n",
    "import pandas as pd\n",
    "from sklearn.preprocessing import LabelEncoder\n",
    "import re\n",
    "from nltk.corpus import stopwords\n",
    "from nltk import word_tokenize\n",
    "from keras.preprocessing import image\n",
    "from keras.applications.vgg16 import VGG16, preprocess_input\n",
    "from keras.preprocessing.text import Tokenizer\n",
    "import numpy as np\n",
    "from keras.layers import Dense, GlobalAveragePooling2D, Embedding, LSTM, multiply\n",
    "from PIL import Image, ImageFile\n",
    "from sklearn.model_selection import train_test_split"
   ]
  },
  {
   "cell_type": "code",
   "execution_count": 4,
   "metadata": {
    "colab": {
     "base_uri": "https://localhost:8080/",
     "height": 469
    },
    "id": "qtytbtlOecG1",
    "outputId": "5d40a105-05ad-4c99-8492-18cf4d7f029d"
   },
   "outputs": [],
   "source": [
    "# text pre-processing functions\n",
    "def clean_text(text):\n",
    "    text = text.replace('\\nBULLET::::', ' ')\n",
    "    text = text.replace('BULLET::::-', ' ')\n",
    "    text = text.replace('BULLET::::', ' ')\n",
    "    text = text.replace('\\n', ' ')\n",
    "    text = text.replace('\\n\\n', ' ')\n",
    "    text = text.replace(r',', '')\n",
    "    text = text.replace('.', '')\n",
    "    text = text.replace(' - ', '')\n",
    "    text = text.replace('-', '')\n",
    "    text = text.replace('&nbsp;', ' ')\n",
    "    text = text.replace('Page', ' ')\n",
    "    text = text.replace(':', ' ')\n",
    "    text = text.replace(';', ' ')\n",
    "    text = text.replace('\"', '')\n",
    "    text = text.replace(\"'\", '')\n",
    "    text = text.replace('(', '')\n",
    "    text = text.replace('[', '')\n",
    "    text = text.replace(']', '')\n",
    "    text = text.replace(')', '')\n",
    "    text = text.strip()\n",
    "    text = re.sub(r'\\d+.', ' ', text)\n",
    "    text = re.sub(r' +', ' ', text)\n",
    "    return text\n",
    "\n",
    "def get_tamil_stop_words():\n",
    "    swdf1 = pd.read_csv(\"D:\\\\My Research\\SHared Task\\\\Stopwords\\\\TamilNLP_TamilStopWords.txt\",  header=None) \n",
    "    swdf2 = pd.read_csv(\"D:\\\\My Research\\SHared Task\\\\Stopwords\\\\TamilNLP_TamilStopWords.txt\",  header=None) \n",
    "    sw1 = swdf1[0].tolist()\n",
    "    sw2 = swdf2[0].tolist()\n",
    "    tamil_stop_words = list(set(sw1 + sw2))\n",
    "    return tamil_stop_words"
   ]
  },
  {
   "cell_type": "code",
   "execution_count": 5,
   "metadata": {
    "id": "dtq_Cdb9h70l"
   },
   "outputs": [],
   "source": [
    "tamil_stop_words = get_tamil_stop_words()"
   ]
  },
  {
   "cell_type": "code",
   "execution_count": null,
   "metadata": {},
   "outputs": [],
   "source": [
    "\n"
   ]
  },
  {
   "cell_type": "code",
   "execution_count": null,
   "metadata": {},
   "outputs": [],
   "source": []
  },
  {
   "cell_type": "code",
   "execution_count": null,
   "metadata": {},
   "outputs": [],
   "source": []
  },
  {
   "cell_type": "code",
   "execution_count": null,
   "metadata": {},
   "outputs": [],
   "source": []
  },
  {
   "cell_type": "code",
   "execution_count": null,
   "metadata": {},
   "outputs": [],
   "source": []
  },
  {
   "cell_type": "code",
   "execution_count": 6,
   "metadata": {
    "id": "Dx-WTQdph7t7"
   },
   "outputs": [],
   "source": [
    "#LSTM Implementation"
   ]
  },
  {
   "cell_type": "code",
   "execution_count": null,
   "metadata": {
    "id": "3F4UKDG3Du0D"
   },
   "outputs": [],
   "source": []
  },
  {
   "cell_type": "code",
   "execution_count": 7,
   "metadata": {
    "id": "fiX6sB3wI1ft"
   },
   "outputs": [],
   "source": [
    "Training_path = 'D:\\\\My Research\\SHared Task\\\\Troll Meme\\\\Tamil_troll_memes\\\\tamil_memes_modified_Nusrat\\\\train_captions_final.csv'\n",
    "Testing_path = 'D:\\\\My Research\\\\SHared Task\\\\Troll Meme\\\\Tamil_troll_memes\\\\tamil_memes_modified_Nusrat\\\\test_captions.csv'\n",
    "Validation_path = 'D:\\\\My Research\\\\SHared Task\\\\Troll Meme\\\\Tamil_troll_memes\\\\tamil_memes_modified_Nusrat\\\\test_captions_final.csv'\n"
   ]
  },
  {
   "cell_type": "code",
   "execution_count": null,
   "metadata": {
    "id": "ceDZw1gALg1k"
   },
   "outputs": [],
   "source": []
  },
  {
   "cell_type": "code",
   "execution_count": null,
   "metadata": {
    "id": "SHqJ_OYaLh6V"
   },
   "outputs": [],
   "source": []
  },
  {
   "cell_type": "code",
   "execution_count": null,
   "metadata": {
    "id": "DsV8nXXojSuL"
   },
   "outputs": [],
   "source": []
  },
  {
   "cell_type": "code",
   "execution_count": null,
   "metadata": {
    "id": "7gp3KktTPKHR"
   },
   "outputs": [],
   "source": []
  },
  {
   "cell_type": "code",
   "execution_count": 8,
   "metadata": {
    "id": "rcw-khRABFfz"
   },
   "outputs": [],
   "source": [
    "def read_data(file_name):\n",
    "  #Opening file\n",
    "    with open(file_name,'r', encoding=\"utf8\",newline='\\n', errors='ignore') as f:\n",
    "      #Creating empty set and dictonary for vocab and word respectively\n",
    "        word_vocab = set() \n",
    "        word2vector = {}\n",
    "        #Iterating over each line of file\n",
    "        for line in f:\n",
    "            #Spliting lines\n",
    "            line_ = line.strip() \n",
    "            #Splitting words\n",
    "            words_Vec = line_.split()            \n",
    "            word_vocab.add(words_Vec[0])\n",
    "            word2vector[words_Vec[0]] = np.array(words_Vec[1:],dtype=float)\n",
    "    print(\"Total Words in DataSet:\",len(word_vocab))\n",
    "    return word_vocab,word2vector"
   ]
  },
  {
   "cell_type": "code",
   "execution_count": 9,
   "metadata": {
    "id": "IzJx3ZlU1BTS"
   },
   "outputs": [],
   "source": [
    "def encode_label(DataFrame, Label_col):\n",
    "    t_y = DataFrame[Label_col].values\n",
    "    Encoder = LabelEncoder()\n",
    "    y = Encoder.fit_transform(t_y)\n",
    "    DataFrame[Label_col] = y"
   ]
  },
  {
   "cell_type": "code",
   "execution_count": 10,
   "metadata": {
    "id": "RlFYJiAVBOGW"
   },
   "outputs": [],
   "source": [
    "def preprocess_text(Training_path,Validation_path, Testing_path):\n",
    "    # function to preprocess input\n",
    "    training_DF = pd.read_csv(Training_path, sep = ',')\n",
    "    validation_DF = pd.read_csv(Validation_path, sep = ',')\n",
    "    testing_DF = pd.read_csv(Testing_path, sep = ',')\n",
    "\n",
    "    # encoding all the labels \n",
    "    encode_label(testing_DF,'label')\n",
    "    encode_label(training_DF, 'label')\n",
    "    encode_label(validation_DF, 'label')\n",
    "    \n",
    "    training_DF['sentence'] = training_DF['sentence'].apply(lambda x: ' '.join([word for word in x.split() if word not in (tamil_stop_words)]))      \n",
    "    validation_DF['sentence'] = validation_DF['sentence'].apply(lambda x: ' '.join([word for word in x.split() if word not in (tamil_stop_words)]))\n",
    "    testing_DF['sentence'] = testing_DF['sentence'].apply(lambda x: ' '.join([word for word in x.split() if word not in (tamil_stop_words)]))\n",
    "\n",
    "    # Processing the text\n",
    "    training_DF['sentence'] = training_DF['sentence'].apply(clean_text)\n",
    "    testing_DF['sentence'] = testing_DF['sentence'].apply(clean_text)\n",
    "    validation_DF['sentence'] = validation_DF['sentence'].apply(clean_text)\n",
    "\n",
    "    return training_DF, testing_DF, validation_DF"
   ]
  },
  {
   "cell_type": "code",
   "execution_count": 11,
   "metadata": {
    "id": "Y489TDKfBN_9"
   },
   "outputs": [],
   "source": [
    "#splitting data into train, test and validation\n",
    "training_df, testing_df, validation_df = preprocess_text(Training_path,Validation_path, Testing_path)"
   ]
  },
  {
   "cell_type": "code",
   "execution_count": null,
   "metadata": {
    "id": "DYzH-z_-BN7r"
   },
   "outputs": [],
   "source": []
  },
  {
   "cell_type": "code",
   "execution_count": null,
   "metadata": {
    "id": "EsffRT_XFmru"
   },
   "outputs": [],
   "source": []
  },
  {
   "cell_type": "code",
   "execution_count": 12,
   "metadata": {
    "id": "m650MxnvFmnt"
   },
   "outputs": [],
   "source": [
    "maxlen = 1000\n",
    "EMBEDDING_DIM = 300"
   ]
  },
  {
   "cell_type": "code",
   "execution_count": 13,
   "metadata": {
    "colab": {
     "base_uri": "https://localhost:8080/"
    },
    "id": "9ZNI_-0sFmjo",
    "outputId": "50574ed4-0cad-4f1b-c203-5b54adfe12a4"
   },
   "outputs": [
    {
     "name": "stderr",
     "output_type": "stream",
     "text": [
      "C:\\Users\\maruf\\Anaconda3\\lib\\site-packages\\keras\\optimizer_v2\\adam.py:105: UserWarning: The `lr` argument is deprecated, use `learning_rate` instead.\n",
      "  super(Adam, self).__init__(name, **kwargs)\n"
     ]
    }
   ],
   "source": [
    "#model with adam optimizer\n",
    "adam = tensorflow.keras.optimizers.Adam(lr=0.001, beta_1=0.9, beta_2=0.999, epsilon=None, decay=0.0, amsgrad=False)\n",
    "sgd = tensorflow.keras.optimizers.SGD(learning_rate=0.001, decay=1e-6, momentum=0.9, nesterov=True)\n",
    "adadelta = tensorflow.keras.optimizers.Adadelta(learning_rate=1.0, rho=0.9, epsilon=None, decay=0.0)"
   ]
  },
  {
   "cell_type": "code",
   "execution_count": 14,
   "metadata": {
    "id": "UyqOUAc3FmgG"
   },
   "outputs": [],
   "source": [
    "# Vectorising text\n",
    "# process the whole observation into single list\n",
    "train_text_list= list(training_df['sentence'])\n",
    "test_text_list = list(testing_df['sentence'])\n",
    "val_text_list = list(validation_df['sentence'])\n",
    "\n",
    "# Creating vectors for train, test, validation\n",
    "tokenizer = Tokenizer(num_words=1000)\n",
    "tokenizer.fit_on_texts(train_text_list)\n",
    "sequences_train = tokenizer.texts_to_sequences(train_text_list)\n",
    "sequences_test = tokenizer.texts_to_sequences(test_text_list)\n",
    "sequences_val = tokenizer.texts_to_sequences(val_text_list)\n",
    "\n",
    "x_train = preprocessing.sequence.pad_sequences(sequences_train, maxlen=maxlen)\n",
    "x_test = preprocessing.sequence.pad_sequences(sequences_test, maxlen=maxlen)\n",
    "x_val = preprocessing.sequence.pad_sequences(sequences_val, maxlen=maxlen)\n",
    "\n",
    "\n",
    "y_test = testing_df['label']\n",
    "y_train = training_df['label']\n",
    "y_val = validation_df['label']"
   ]
  },
  {
   "cell_type": "code",
   "execution_count": 15,
   "metadata": {
    "id": "HGO5_9OHFmU4"
   },
   "outputs": [],
   "source": [
    "def img_text_generator(files, padded_seq, y, batch_size=None):\n",
    "    \"\"\"\n",
    "        padded_seq: vectorized padded text sequence \n",
    "        y: label of the text\n",
    "        batch_size: Number of observations to be selected at a time\n",
    "        \n",
    "        return: generator object of text data\n",
    "    \"\"\"\n",
    "    while True:\n",
    "        batch_idxs = np.random.choice(a = list(range(len(padded_seq))), size=batch_size) #Selecting the random batch indexes    \n",
    "        batch_input_txt = [] # Initializing batch input text\n",
    "        batch_input_img = [] # Initializing batch input image\n",
    "        batch_output = [] # Initializing batch output\n",
    "        \n",
    "        # Traversing through the batch indexes\n",
    "        for batch_idx in batch_idxs:\n",
    "            input_txt = padded_seq[batch_idx] # selecting padded sequences from the batch\n",
    "            output = y[batch_idx] # Selecting label  \n",
    "            input_img = get_input(files[batch_idx])\n",
    "            input_img = process_input(input_img)\n",
    "            batch_input_txt.append(input_txt) # Appending the input (text vector)\n",
    "            batch_input_img.append(input_img[0])\n",
    "            batch_output.append(output) # Appending the label\n",
    "        \n",
    "        # Return a tuple of (input,output) to feed the network\n",
    "        batch_x1 = np.array( batch_input_img )\n",
    "        batch_x2 = np.array( batch_input_txt )\n",
    "        batch_y = np.array( batch_output )\n",
    "        yield ([batch_x1, batch_x2], batch_y)"
   ]
  },
  {
   "cell_type": "code",
   "execution_count": 16,
   "metadata": {
    "id": "as0XM0fpFmQv"
   },
   "outputs": [],
   "source": [
    "def text_generator(padded_seq, y, batch_size=None):\n",
    "    \"\"\"\n",
    "        padded_seq: vectorized padded text sequence \n",
    "        y: label of the text\n",
    "        batch_size: Number of observations to be selected at a time\n",
    "        \n",
    "        return: generator object of text data\n",
    "    \"\"\"\n",
    "    idxs = list(range(len(y)))\n",
    "    idx = 0\n",
    "    while True:\n",
    "        batch_idxs = idxs[idx:idx+batch_size]\n",
    "        idx = idx + batch_size\n",
    "#         batch_idxs = np.random.choice(a = list(range(len(padded_seq))), size=batch_size) #Selecting the random batch indexes    \n",
    "        batch_input = [] # Initializing batch input\n",
    "        batch_output = [] # Initializing batch output\n",
    "        \n",
    "        # Traversing through the batch indexes\n",
    "        for batch_idx in batch_idxs:\n",
    "            input = padded_seq[batch_idx] # selecting padded sequences from the batch\n",
    "            output = y[batch_idx] # Selecting label            \n",
    "            batch_input.append(input) # Appending the input (text vector)\n",
    "            batch_output.append(output) # Appending the label\n",
    "        \n",
    "        # Return a tuple of (input,output) to feed the network\n",
    "        batch_x = np.array( batch_input )\n",
    "        batch_y = np.array( batch_output )\n",
    "        if len(batch_x) < batch_size:\n",
    "            idx = 0\n",
    "        else:             \n",
    "            yield (batch_x, batch_y)"
   ]
  },
  {
   "cell_type": "code",
   "execution_count": 17,
   "metadata": {
    "id": "o88abWvKFmNI"
   },
   "outputs": [],
   "source": [
    "def get_input(path):\n",
    "    # Loading image from given path\n",
    "    # and resizing it to 224*224*3 format\n",
    "    ImageFile.LOAD_TRUNCATED_IMAGES = True\n",
    "    img = image.load_img(path, target_size=(224,224))    \n",
    "    return(img)"
   ]
  },
  {
   "cell_type": "code",
   "execution_count": 18,
   "metadata": {
    "id": "Km7uo0M2FmJn"
   },
   "outputs": [],
   "source": [
    "def get_output(path,label_file=None):\n",
    "    # Spliting the path and take out the image id    \n",
    "    filename = path.split('/')[-1]\n",
    "    # Taking list of labels\n",
    "    labels = list(label_file[label_file['image_name'] == filename]['label'].values)\n",
    "  #  for duplicate selecting labels\n",
    "    if len(labels) <= 2:\n",
    "        label = labels[0]\n",
    "    elif len(labels) > 2:\n",
    "        uni_label = list(set(labels))\n",
    "        count_label = [labels.count(lab) for lab in uni_label]\n",
    "        lab_idx = count_label.index(max(count_label))\n",
    "        label = uni_label[lab_idx]\n",
    "    #label = labels[0]\n",
    "    return label"
   ]
  },
  {
   "cell_type": "code",
   "execution_count": 19,
   "metadata": {
    "id": "WQnragxFFmGI"
   },
   "outputs": [],
   "source": [
    "def process_input(img):\n",
    "    # Converting image to array    \n",
    "    img_data = image.img_to_array(img)\n",
    "    # Adding one more dimension to array    \n",
    "    img_data = np.expand_dims(img_data, axis=0)\n",
    "    #     \n",
    "    img_data = preprocess_input(img_data)\n",
    "    return(img_data)"
   ]
  },
  {
   "cell_type": "code",
   "execution_count": null,
   "metadata": {
    "id": "2SnB8Uh2HIvE"
   },
   "outputs": [],
   "source": []
  },
  {
   "cell_type": "code",
   "execution_count": 20,
   "metadata": {
    "id": "yfVC9no4HIrc"
   },
   "outputs": [],
   "source": [
    " \n",
    "# Creating train, test, val, generator for text\n",
    "txt_gen_train = text_generator(x_train, y_train, batch_size=32)\n",
    "txt_gen_test = text_generator(x_test, y_test, batch_size=1)\n",
    "txt_gen_val = text_generator(x_val, y_val, batch_size=1)\n",
    "\n",
    "# text_generator() Return a tuple of (padded sequences array,label array) to feed the network\n",
    "\n"
   ]
  },
  {
   "cell_type": "code",
   "execution_count": null,
   "metadata": {
    "colab": {
     "base_uri": "https://localhost:8080/"
    },
    "id": "EPFEWt-JHIoL",
    "outputId": "83645e9f-6604-4787-9c95-71be9e1cd61b"
   },
   "outputs": [],
   "source": []
  },
  {
   "cell_type": "code",
   "execution_count": null,
   "metadata": {
    "id": "-bWyUpplHIko"
   },
   "outputs": [],
   "source": []
  },
  {
   "cell_type": "code",
   "execution_count": null,
   "metadata": {
    "id": "oNLbdkSft3Nt"
   },
   "outputs": [],
   "source": []
  },
  {
   "cell_type": "code",
   "execution_count": 21,
   "metadata": {
    "id": "R0Uq3OM-t3Ky"
   },
   "outputs": [],
   "source": [
    "# https://towardsdatascience.com/implementing-neural-machine-translation-using-keras-8312e4844eb8"
   ]
  },
  {
   "cell_type": "code",
   "execution_count": 22,
   "metadata": {
    "id": "nOpo21xvt3Du"
   },
   "outputs": [],
   "source": [
    "# nice reading blog for this implementation\n"
   ]
  },
  {
   "cell_type": "code",
   "execution_count": null,
   "metadata": {},
   "outputs": [],
   "source": []
  },
  {
   "cell_type": "code",
   "execution_count": null,
   "metadata": {
    "id": "8IGops78t-YH"
   },
   "outputs": [],
   "source": []
  },
  {
   "cell_type": "code",
   "execution_count": 23,
   "metadata": {},
   "outputs": [],
   "source": [
    "# from gensim.models import KeyedVectors\n",
    "# model_ft = KeyedVectors.load_word2vec_format(\"D:\\\\My Research\\\\SHared Task\\\\cc.ta.300.vec\")"
   ]
  },
  {
   "cell_type": "code",
   "execution_count": 24,
   "metadata": {},
   "outputs": [],
   "source": [
    "# #embedding weight matrix\n",
    "\n",
    "# embedding_matrix_1 = np.zeros((num_tokens + 1, EMBEDDING_DIM))\n",
    "\n",
    "# count = 0 ;\n",
    "\n",
    "# for word,i in word_index.items():\n",
    "\n",
    "#     try:\n",
    "#         embedding_matrix_1[i] = np.array(model_ft[word])\n",
    "#         count = count + 1;  \n",
    "#     except Exception:\n",
    "#         ;\n",
    "\n",
    "# print(count);\n",
    "# print(embedding_matrix_1.shape)"
   ]
  },
  {
   "cell_type": "code",
   "execution_count": null,
   "metadata": {},
   "outputs": [],
   "source": []
  },
  {
   "cell_type": "code",
   "execution_count": null,
   "metadata": {},
   "outputs": [],
   "source": []
  },
  {
   "cell_type": "code",
   "execution_count": null,
   "metadata": {},
   "outputs": [],
   "source": []
  },
  {
   "cell_type": "code",
   "execution_count": 25,
   "metadata": {},
   "outputs": [
    {
     "name": "stdout",
     "output_type": "stream",
     "text": [
      "Model: \"sequential\"\n",
      "_________________________________________________________________\n",
      " Layer (type)                Output Shape              Param #   \n",
      "=================================================================\n",
      " embedding (Embedding)       (None, 1000, 32)          320000    \n",
      "                                                                 \n",
      " lstm (LSTM)                 (None, 100)               53200     \n",
      "                                                                 \n",
      " dense (Dense)               (None, 1)                 101       \n",
      "                                                                 \n",
      "=================================================================\n",
      "Total params: 373,301\n",
      "Trainable params: 373,301\n",
      "Non-trainable params: 0\n",
      "_________________________________________________________________\n",
      "None\n",
      "Epoch 1/10\n",
      "51/51 [==============================] - ETA: 0s - loss: 0.6341 - f1_m: 0.7447\n",
      "Epoch 00001: val_f1_m improved from -inf to 0.41536, saving model to D:\\My Research\\SHared Task\\Troll Meme\\Tamil_troll_memes\\tamil_memes_modified_Nusrat\\weights_best.hdf5\n",
      "51/51 [==============================] - 209s 4s/step - loss: 0.6341 - f1_m: 0.7447 - val_loss: 0.6230 - val_f1_m: 0.4154\n",
      "Epoch 2/10\n",
      "51/51 [==============================] - ETA: 0s - loss: 0.4855 - f1_m: 0.8066\n",
      "Epoch 00002: val_f1_m did not improve from 0.41536\n",
      "51/51 [==============================] - 89s 2s/step - loss: 0.4855 - f1_m: 0.8066 - val_loss: 0.5287 - val_f1_m: 0.3830\n",
      "Epoch 3/10\n",
      "51/51 [==============================] - ETA: 0s - loss: 0.3567 - f1_m: 0.8827\n",
      "Epoch 00003: val_f1_m did not improve from 0.41536\n",
      "51/51 [==============================] - 85s 2s/step - loss: 0.3567 - f1_m: 0.8827 - val_loss: 0.4579 - val_f1_m: 0.4066\n",
      "Epoch 4/10\n",
      "51/51 [==============================] - ETA: 0s - loss: 0.2686 - f1_m: 0.9112\n",
      "Epoch 00004: val_f1_m did not improve from 0.41536\n",
      "51/51 [==============================] - 95s 2s/step - loss: 0.2686 - f1_m: 0.9112 - val_loss: 0.4472 - val_f1_m: 0.3955\n",
      "Epoch 5/10\n",
      "51/51 [==============================] - ETA: 0s - loss: 0.2048 - f1_m: 0.9251\n",
      "Epoch 00005: val_f1_m did not improve from 0.41536\n",
      "51/51 [==============================] - 175s 3s/step - loss: 0.2048 - f1_m: 0.9251 - val_loss: 0.4477 - val_f1_m: 0.4071\n",
      "Epoch 6/10\n",
      "51/51 [==============================] - ETA: 0s - loss: 0.1898 - f1_m: 0.9341\n",
      "Epoch 00006: val_f1_m improved from 0.41536 to 0.42224, saving model to D:\\My Research\\SHared Task\\Troll Meme\\Tamil_troll_memes\\tamil_memes_modified_Nusrat\\weights_best.hdf5\n",
      "51/51 [==============================] - 197s 4s/step - loss: 0.1898 - f1_m: 0.9341 - val_loss: 0.4403 - val_f1_m: 0.4222\n",
      "Epoch 7/10\n",
      "51/51 [==============================] - ETA: 0s - loss: 0.1644 - f1_m: 0.9412\n",
      "Epoch 00007: val_f1_m did not improve from 0.42224\n",
      "51/51 [==============================] - 190s 4s/step - loss: 0.1644 - f1_m: 0.9412 - val_loss: 0.4644 - val_f1_m: 0.4132\n",
      "Epoch 8/10\n",
      "51/51 [==============================] - ETA: 0s - loss: 0.1370 - f1_m: 0.9483\n",
      "Epoch 00008: val_f1_m did not improve from 0.42224\n",
      "51/51 [==============================] - 123s 2s/step - loss: 0.1370 - f1_m: 0.9483 - val_loss: 0.5302 - val_f1_m: 0.4068\n",
      "Epoch 9/10\n",
      "51/51 [==============================] - ETA: 0s - loss: 0.1256 - f1_m: 0.9518\n",
      "Epoch 00009: val_f1_m improved from 0.42224 to 0.45329, saving model to D:\\My Research\\SHared Task\\Troll Meme\\Tamil_troll_memes\\tamil_memes_modified_Nusrat\\weights_best.hdf5\n",
      "51/51 [==============================] - 109s 2s/step - loss: 0.1256 - f1_m: 0.9518 - val_loss: 0.5018 - val_f1_m: 0.4533\n",
      "Epoch 10/10\n",
      "51/51 [==============================] - ETA: 0s - loss: 0.1181 - f1_m: 0.9569\n",
      "Epoch 00010: val_f1_m did not improve from 0.45329\n",
      "51/51 [==============================] - 123s 2s/step - loss: 0.1181 - f1_m: 0.9569 - val_loss: 0.5436 - val_f1_m: 0.4131\n"
     ]
    },
    {
     "data": {
      "text/plain": [
       "<keras.callbacks.History at 0x1ff326b40b8>"
      ]
     },
     "execution_count": 25,
     "metadata": {},
     "output_type": "execute_result"
    }
   ],
   "source": [
    "from keras.models import Sequential\n",
    "from keras.callbacks import ModelCheckpoint\n",
    "\n",
    "# LSTM \n",
    "\n",
    "embedding_vecor_length = 32\n",
    "model = Sequential()\n",
    "model.add(Embedding(10000, embedding_vecor_length, input_length=1000))\n",
    "model.add(LSTM(100, dropout=0.2, recurrent_dropout=0.2))\n",
    "model.add(Dense(1, activation='sigmoid'))\n",
    "model.compile(loss='binary_crossentropy', optimizer=adam, metrics=[f1_m])\n",
    "print(model.summary())\n",
    "\n",
    "subdir = \"D:\\\\My Research\\SHared Task\\\\Troll Meme\\\\Tamil_troll_memes\\\\tamil_memes_modified_Nusrat\\\\\";\n",
    "filepath = os.path.join(subdir,\"weights_best.hdf5\") \n",
    "checkpoint = ModelCheckpoint(filepath, monitor= \"val_f1_m\" , verbose=1, save_best_only=True, mode='max',save_weights_only=True)\n",
    "\n",
    "callbacks_list = [checkpoint]\n",
    "\n",
    "model.fit(x_train, y_train, epochs=10, batch_size=32,verbose = 1 , callbacks = callbacks_list, validation_data=(x_val,y_val))"
   ]
  },
  {
   "cell_type": "code",
   "execution_count": 26,
   "metadata": {},
   "outputs": [
    {
     "name": "stderr",
     "output_type": "stream",
     "text": [
      "C:\\Users\\maruf\\Anaconda3\\lib\\site-packages\\ipykernel_launcher.py:2: UserWarning: `Model.predict_generator` is deprecated and will be removed in a future version. Please use `Model.predict`, which supports generators.\n",
      "  \n"
     ]
    },
    {
     "data": {
      "text/plain": [
       "array([1., 1., 1., 1., 1., 1., 0., 1., 1., 1., 1., 1., 1., 1., 1., 0., 1.,\n",
       "       1., 1., 1., 1., 1., 1., 0., 1., 1., 1., 1., 1., 1., 1., 1., 1., 1.,\n",
       "       1., 1., 1., 1., 1., 0., 1., 1., 0., 1., 0., 1., 1., 1., 1., 1., 1.,\n",
       "       1., 1., 1., 0., 1., 0., 0., 1., 1., 1., 1., 1., 1., 0., 1., 0., 1.,\n",
       "       1., 1., 1., 1., 0., 1., 1., 0., 1., 1., 0., 0., 0., 0., 0., 1., 0.,\n",
       "       0., 1., 0., 0., 0., 1., 1., 0., 0., 1., 1., 1., 1., 0., 1., 1., 0.,\n",
       "       0., 0., 0., 1., 1., 0., 1., 1., 1., 1., 1., 1., 0., 1., 1., 0., 1.,\n",
       "       1., 1., 0., 0., 1., 1., 1., 1., 0., 1., 0., 0., 1., 1., 1., 0., 1.,\n",
       "       0., 1., 0., 0., 1., 1., 1., 1., 0., 1., 1., 1., 1., 0., 0., 1., 0.,\n",
       "       1., 0., 1., 1., 1., 1., 1., 1., 0., 1., 1., 0., 0., 1., 1., 1., 0.,\n",
       "       1., 1., 0., 0., 1., 0., 0., 1., 1., 0., 1., 1., 0., 1., 1., 0., 1.,\n",
       "       1., 0., 0., 0., 0., 0., 0., 1., 1., 0., 0., 0., 1., 1., 1., 1., 1.,\n",
       "       0., 1., 1., 0., 1., 0., 1., 1., 1., 0., 1., 1., 1., 0., 1., 1., 1.,\n",
       "       0., 0., 0., 0., 1., 1., 1., 1., 1., 1., 0., 0., 1., 1., 1., 1., 1.,\n",
       "       0., 0., 1., 1., 1., 0., 1., 1., 0., 0., 0., 1., 1., 0., 1., 0., 1.,\n",
       "       0., 1., 1., 1., 1., 1., 1., 0., 0., 1., 1., 0., 1., 1., 1., 0., 1.,\n",
       "       1., 0., 1., 1., 1., 1., 1., 1., 1., 1., 1., 1., 0., 1., 0., 0., 1.,\n",
       "       1., 0., 1., 1., 0., 0., 0., 1., 0., 1., 1., 0., 1., 1., 1., 1., 1.,\n",
       "       1., 1., 0., 0., 1., 1., 1., 1., 0., 1., 1., 1., 1., 1., 1., 1., 1.,\n",
       "       1., 0., 0., 1., 1., 1., 1., 1., 1., 1., 1., 1., 0., 0., 1., 0., 1.,\n",
       "       0., 1., 1., 1., 1., 1., 1., 1., 1., 1., 1., 1., 1., 0., 1., 1., 1.,\n",
       "       1., 1., 0., 1., 1., 0., 1., 0., 1., 1., 1., 0., 1., 1., 0., 1., 1.,\n",
       "       1., 1., 1., 1., 1., 1., 1., 1., 1., 0., 0., 1., 1., 1., 1., 1., 0.,\n",
       "       1., 1., 0., 1., 1., 1., 1., 1., 1., 1., 1., 1., 0., 1., 1., 1., 1.,\n",
       "       1., 1., 1., 1., 1., 1., 1., 1., 1., 1., 1., 1., 0., 1., 1., 1., 1.,\n",
       "       1., 1., 1., 0., 1., 0., 0., 1., 1., 1., 0., 1., 0., 1., 1., 1., 1.,\n",
       "       1., 1., 1., 0., 1., 1., 1., 1., 1., 1., 1., 1., 1., 0., 1., 1., 1.,\n",
       "       1., 0., 1., 1., 1., 1., 1., 0., 1., 1., 0., 1., 1., 1., 1., 1., 1.,\n",
       "       0., 1., 1., 1., 1., 1., 1., 1., 1., 1., 1., 1., 1., 1., 1., 1., 1.,\n",
       "       1., 1., 1., 1., 1., 0., 1., 0., 1., 1., 1., 0., 1., 0., 1., 1., 1.,\n",
       "       1., 1., 1., 1., 1., 1., 0., 1., 1., 0., 1., 1., 1., 1., 1., 1., 1.,\n",
       "       1., 1., 1., 1., 1., 1., 1., 1., 0., 0., 1., 1., 0., 1., 1., 1., 1.,\n",
       "       0., 1., 1., 0., 1., 1., 1., 1., 1., 1., 1., 1., 1., 1., 1., 1., 1.,\n",
       "       1., 1., 1., 1., 1., 1., 0., 1., 1., 1., 1., 1., 1., 1., 0., 1., 1.,\n",
       "       0., 1., 1., 1., 1., 1., 1., 0., 1., 1., 1., 1., 1., 1., 1., 1., 1.,\n",
       "       1., 1., 0., 1., 0., 1., 1., 1., 1., 1., 1., 1., 1., 0., 0., 1., 0.,\n",
       "       1., 1., 0., 0., 1., 1., 1., 1., 1., 1., 1., 1., 1., 1., 1., 0., 1.,\n",
       "       1., 1., 1., 1., 1., 1., 0., 1., 0., 1., 1., 1., 1., 1., 1., 0., 1.,\n",
       "       1., 1., 1., 0., 0., 1., 1., 1., 1., 1., 1., 1., 1., 0., 1., 1., 1.,\n",
       "       0., 0., 1., 1.], dtype=float32)"
      ]
     },
     "execution_count": 26,
     "metadata": {},
     "output_type": "execute_result"
    }
   ],
   "source": [
    "#predicting the labels for the test set\n",
    "y_pred_txt = (model.predict_generator(txt_gen_test, steps=667))\n",
    "y_pred_txt = np.round(list(itertools.chain(*y_pred_txt)))\n",
    "\n",
    "y_pred_txt\n",
    "\n",
    "\n",
    "\n",
    "#true labels\n",
    "#y_true = y_test.values\n",
    "#y_true"
   ]
  },
  {
   "cell_type": "code",
   "execution_count": 27,
   "metadata": {},
   "outputs": [],
   "source": [
    "# y_pred_txt = [ int(x) for x in y_pred_txt ]"
   ]
  },
  {
   "cell_type": "code",
   "execution_count": 28,
   "metadata": {},
   "outputs": [],
   "source": [
    "# print(y_test.values[:10])"
   ]
  },
  {
   "cell_type": "code",
   "execution_count": 29,
   "metadata": {},
   "outputs": [],
   "source": [
    "# only_text_df = pd.read_csv('D:\\\\My Research\\SHared Task\\\\Troll Meme\\\\Tamil_troll_memes\\\\tamil_memes_modified_Nusrat\\\\submit1.csv')"
   ]
  },
  {
   "cell_type": "code",
   "execution_count": 30,
   "metadata": {},
   "outputs": [],
   "source": [
    "# y_pred_txt"
   ]
  },
  {
   "cell_type": "code",
   "execution_count": 31,
   "metadata": {},
   "outputs": [],
   "source": [
    "# count = 0;\n",
    "# for i in y_pred_txt:\n",
    "#     if i == 1:\n",
    "#       only_text_df['label'][count] = i;\n",
    "#     count = count + 1;"
   ]
  },
  {
   "cell_type": "code",
   "execution_count": 32,
   "metadata": {},
   "outputs": [],
   "source": [
    "# only_text_df['label'][0]"
   ]
  },
  {
   "cell_type": "code",
   "execution_count": 33,
   "metadata": {},
   "outputs": [],
   "source": [
    "# only_text_df.head()"
   ]
  },
  {
   "cell_type": "code",
   "execution_count": 34,
   "metadata": {},
   "outputs": [],
   "source": [
    "# count = 0;\n",
    "# for i in y_pred_txt:\n",
    "#     if i == 1:\n",
    "#       only_text_df['label'][count] = \"troll\";\n",
    "#     else:\n",
    "#         only_text_df['label'][count] = \"not_troll\";\n",
    "#     count = count + 1;\n",
    "# count"
   ]
  },
  {
   "cell_type": "code",
   "execution_count": 35,
   "metadata": {},
   "outputs": [],
   "source": [
    "#only_text_df.head()"
   ]
  },
  {
   "cell_type": "code",
   "execution_count": 36,
   "metadata": {},
   "outputs": [],
   "source": [
    "#only_text_df.to_csv('D:\\\\My Research\\SHared Task\\\\Troll Meme\\\\Tamil_troll_memes\\\\tamil_memes_modified_Nusrat\\\\my_submit1.csv')"
   ]
  },
  {
   "cell_type": "code",
   "execution_count": null,
   "metadata": {},
   "outputs": [],
   "source": []
  },
  {
   "cell_type": "code",
   "execution_count": 37,
   "metadata": {},
   "outputs": [
    {
     "name": "stdout",
     "output_type": "stream",
     "text": [
      "21/21 [==============================] - 5s 200ms/step - loss: 2.7887 - f1_m: 0.6931\n",
      "Accuracy : 69.31%\n"
     ]
    }
   ],
   "source": [
    "# Final evaluation of the model\n",
    "embedding_vecor_length = 32\n",
    "model = Sequential()\n",
    "model.add(Embedding(10000, embedding_vecor_length, input_length=1000))\n",
    "model.add(LSTM(100, dropout=0.2, recurrent_dropout=0.2))\n",
    "model.add(Dense(1, activation='sigmoid'))\n",
    "model.load_weights(filepath)\n",
    "model.compile(loss='binary_crossentropy', optimizer='adam', metrics=[f1_m])\n",
    "scores = model.evaluate(x_test, y_test, verbose=1,batch_size = 32)\n",
    "print(\"Accuracy : %.2f%%\" % (scores[1]*100))"
   ]
  },
  {
   "cell_type": "code",
   "execution_count": 40,
   "metadata": {},
   "outputs": [
    {
     "data": {
      "image/png": "[encoded data removed]",
      "text/plain": [
       "<Figure size 432x288 with 2 Axes>"
      ]
     },
     "metadata": {
      "needs_background": "light"
     },
     "output_type": "display_data"
    }
   ],
   "source": [
    "\n",
    "from sklearn.metrics import classification_report, confusion_matrix\n",
    "import itertools\n",
    "\n",
    "labels = ['troll', 'Not_troll']\n",
    "cm = confusion_matrix(y_test, y_pred_txt)\n",
    "\n",
    "ax= plt.subplot()\n",
    "sns.set(font_scale=1.5) # Adjust to fit\n",
    "sns.heatmap(cm, annot=True, fmt='g', ax=ax);  #annot=True to annotate cells, ftm='g' to disable scientific notation\n",
    "\n",
    "# labels, title and ticks\n",
    "label_font = {'size':'13'}  # Adjust to fit\n",
    "ax.set_xlabel('Predicted labels',fontdict=label_font);\n",
    "ax.set_ylabel('True labels',fontdict=label_font); \n",
    "\n",
    "title_font = {'size':'15'}  # Adjust to fit\n",
    "\n",
    "ax.set_title('Confusion Matrix For LSTM',fontdict=title_font); \n",
    "\n",
    "ax.tick_params(axis='both', which='major', labelsize=10)  # Adjust to fit\n",
    "ax.xaxis.set_ticklabels(['troll', 'Not_troll']); \n",
    "ax.yaxis.set_ticklabels(['troll', 'Not_troll']);\n",
    "\n",
    "plt.savefig('D:\\\\My Research\\\\Shared Task Paper\\\\Troll\\\\Images\\\\confusion_matrix_LSTM_Text.jpg')  "
   ]
  },
  {
   "cell_type": "code",
   "execution_count": 43,
   "metadata": {},
   "outputs": [
    {
     "name": "stdout",
     "output_type": "stream",
     "text": [
      "Classification Report\n",
      "              precision    recall  f1-score   support\n",
      "\n",
      "       troll       0.49      0.30      0.37       272\n",
      "   Not_troll       0.62      0.79      0.69       395\n",
      "\n",
      "   micro avg       0.59      0.59      0.59       667\n",
      "   macro avg       0.56      0.54      0.53       667\n",
      "weighted avg       0.57      0.59      0.56       667\n",
      "\n"
     ]
    }
   ],
   "source": [
    "print('Classification Report')\n",
    "target_names = ['troll', 'Not_troll']\n",
    "print(classification_report(y_test, y_pred_txt, target_names=target_names))"
   ]
  },
  {
   "cell_type": "code",
   "execution_count": null,
   "metadata": {},
   "outputs": [],
   "source": []
  },
  {
   "cell_type": "code",
   "execution_count": null,
   "metadata": {},
   "outputs": [],
   "source": []
  },
  {
   "cell_type": "code",
   "execution_count": 44,
   "metadata": {},
   "outputs": [
    {
     "name": "stdout",
     "output_type": "stream",
     "text": [
      "Model: \"sequential_2\"\n",
      "_________________________________________________________________\n",
      " Layer (type)                Output Shape              Param #   \n",
      "=================================================================\n",
      " embedding_2 (Embedding)     (None, 1000, 32)          320000    \n",
      "                                                                 \n",
      " conv1d (Conv1D)             (None, 1000, 32)          3104      \n",
      "                                                                 \n",
      " max_pooling1d (MaxPooling1D  (None, 500, 32)          0         \n",
      " )                                                               \n",
      "                                                                 \n",
      " lstm_2 (LSTM)               (None, 100)               53200     \n",
      "                                                                 \n",
      " dense_2 (Dense)             (None, 1)                 101       \n",
      "                                                                 \n",
      "=================================================================\n",
      "Total params: 376,405\n",
      "Trainable params: 376,405\n",
      "Non-trainable params: 0\n",
      "_________________________________________________________________\n",
      "None\n",
      "Epoch 1/15\n",
      "51/51 [==============================] - ETA: 0s - loss: 0.6244 - f1_m: 0.7179\n",
      "Epoch 00001: val_f1_m improved from -inf to 0.43627, saving model to D:\\My Research\\SHared Task\\Troll Meme\\Tamil_troll_memes\\tamil_memes_modified_Nusrat\\weights_best_cnn.hdf5\n",
      "51/51 [==============================] - 27s 454ms/step - loss: 0.6244 - f1_m: 0.7179 - val_loss: 0.6002 - val_f1_m: 0.4363\n",
      "Epoch 2/15\n",
      "51/51 [==============================] - ETA: 0s - loss: 0.4230 - f1_m: 0.8470\n",
      "Epoch 00002: val_f1_m did not improve from 0.43627\n",
      "51/51 [==============================] - 22s 423ms/step - loss: 0.4230 - f1_m: 0.8470 - val_loss: 0.4776 - val_f1_m: 0.3787\n",
      "Epoch 3/15\n",
      "51/51 [==============================] - ETA: 0s - loss: 0.2648 - f1_m: 0.9034\n",
      "Epoch 00003: val_f1_m did not improve from 0.43627\n",
      "51/51 [==============================] - 23s 453ms/step - loss: 0.2648 - f1_m: 0.9034 - val_loss: 0.4787 - val_f1_m: 0.4220\n",
      "Epoch 4/15\n",
      "51/51 [==============================] - ETA: 0s - loss: 0.2456 - f1_m: 0.9284\n",
      "Epoch 00004: val_f1_m did not improve from 0.43627\n",
      "51/51 [==============================] - 25s 496ms/step - loss: 0.2456 - f1_m: 0.9284 - val_loss: 0.4872 - val_f1_m: 0.3926\n",
      "Epoch 5/15\n",
      "51/51 [==============================] - ETA: 0s - loss: 0.1769 - f1_m: 0.9429\n",
      "Epoch 00005: val_f1_m did not improve from 0.43627\n",
      "51/51 [==============================] - 29s 566ms/step - loss: 0.1769 - f1_m: 0.9429 - val_loss: 0.5062 - val_f1_m: 0.4065\n",
      "Epoch 6/15\n",
      "51/51 [==============================] - ETA: 0s - loss: 0.1433 - f1_m: 0.9491\n",
      "Epoch 00006: val_f1_m did not improve from 0.43627\n",
      "51/51 [==============================] - 28s 540ms/step - loss: 0.1433 - f1_m: 0.9491 - val_loss: 0.5349 - val_f1_m: 0.4069\n",
      "Epoch 7/15\n",
      "51/51 [==============================] - ETA: 0s - loss: 0.1216 - f1_m: 0.9548\n",
      "Epoch 00007: val_f1_m did not improve from 0.43627\n",
      "51/51 [==============================] - 27s 539ms/step - loss: 0.1216 - f1_m: 0.9548 - val_loss: 0.5835 - val_f1_m: 0.4091\n",
      "Epoch 8/15\n",
      "51/51 [==============================] - ETA: 0s - loss: 0.1051 - f1_m: 0.9555\n",
      "Epoch 00008: val_f1_m did not improve from 0.43627\n",
      "51/51 [==============================] - 29s 565ms/step - loss: 0.1051 - f1_m: 0.9555 - val_loss: 0.6295 - val_f1_m: 0.4041\n",
      "Epoch 9/15\n",
      "51/51 [==============================] - ETA: 0s - loss: 0.0970 - f1_m: 0.9599\n",
      "Epoch 00009: val_f1_m did not improve from 0.43627\n",
      "51/51 [==============================] - 28s 552ms/step - loss: 0.0970 - f1_m: 0.9599 - val_loss: 0.6721 - val_f1_m: 0.4154\n",
      "Epoch 10/15\n",
      "51/51 [==============================] - ETA: 0s - loss: 0.0916 - f1_m: 0.9573\n",
      "Epoch 00010: val_f1_m did not improve from 0.43627\n",
      "51/51 [==============================] - 28s 556ms/step - loss: 0.0916 - f1_m: 0.9573 - val_loss: 0.6822 - val_f1_m: 0.4065\n",
      "Epoch 11/15\n",
      "51/51 [==============================] - ETA: 0s - loss: 0.0879 - f1_m: 0.9609\n",
      "Epoch 00011: val_f1_m did not improve from 0.43627\n",
      "51/51 [==============================] - 28s 553ms/step - loss: 0.0879 - f1_m: 0.9609 - val_loss: 0.7116 - val_f1_m: 0.4040\n",
      "Epoch 12/15\n",
      "51/51 [==============================] - ETA: 0s - loss: 0.0850 - f1_m: 0.9609\n",
      "Epoch 00012: val_f1_m did not improve from 0.43627\n",
      "51/51 [==============================] - 28s 552ms/step - loss: 0.0850 - f1_m: 0.9609 - val_loss: 0.7444 - val_f1_m: 0.4042\n",
      "Epoch 13/15\n",
      "51/51 [==============================] - ETA: 0s - loss: 0.0860 - f1_m: 0.9595\n",
      "Epoch 00013: val_f1_m did not improve from 0.43627\n",
      "51/51 [==============================] - 29s 567ms/step - loss: 0.0860 - f1_m: 0.9595 - val_loss: 0.7403 - val_f1_m: 0.4086\n",
      "Epoch 14/15\n",
      "51/51 [==============================] - ETA: 0s - loss: 0.0819 - f1_m: 0.9595\n",
      "Epoch 00014: val_f1_m did not improve from 0.43627\n",
      "51/51 [==============================] - 27s 538ms/step - loss: 0.0819 - f1_m: 0.9595 - val_loss: 0.7680 - val_f1_m: 0.4084\n",
      "Epoch 15/15\n",
      "51/51 [==============================] - ETA: 0s - loss: 0.0817 - f1_m: 0.9631\n",
      "Epoch 00015: val_f1_m did not improve from 0.43627\n",
      "51/51 [==============================] - 28s 550ms/step - loss: 0.0817 - f1_m: 0.9631 - val_loss: 0.7436 - val_f1_m: 0.4144\n"
     ]
    },
    {
     "data": {
      "text/plain": [
       "<keras.callbacks.History at 0x1ff56300160>"
      ]
     },
     "execution_count": 44,
     "metadata": {},
     "output_type": "execute_result"
    }
   ],
   "source": [
    "# CNN+LSTM create the model\n",
    "\n",
    "embedding_vecor_length = 32\n",
    "model1 = Sequential()\n",
    "model1.add(Embedding(10000, embedding_vecor_length, input_length=1000))\n",
    "model1.add(Conv1D(filters=32, kernel_size=3, padding='same', activation='relu'))\n",
    "model1.add(MaxPooling1D(pool_size=2))\n",
    "model1.add(LSTM(100))\n",
    "model1.add(Dense(1, activation='sigmoid'))\n",
    "model1.compile(loss='binary_crossentropy', optimizer='adam', metrics=[f1_m])\n",
    "print(model1.summary())\n",
    "\n",
    "subdir = \"D:\\\\My Research\\SHared Task\\\\Troll Meme\\\\Tamil_troll_memes\\\\tamil_memes_modified_Nusrat\\\\\";\n",
    "filepath = os.path.join(subdir,\"weights_best_cnn.hdf5\") \n",
    "\n",
    "checkpoint = ModelCheckpoint(filepath, monitor='val_f1_m', verbose=1, save_best_only=True, mode='max',save_weights_only=True)\n",
    "callbacks_list = [checkpoint]\n",
    "\n",
    "\n",
    "model1.fit(x_train, y_train, epochs=15, batch_size=32,verbose = 1 , callbacks = callbacks_list, validation_data=(x_val,y_val))\n"
   ]
  },
  {
   "cell_type": "code",
   "execution_count": 53,
   "metadata": {},
   "outputs": [],
   "source": [
    "\n",
    "import os         # Creating a directory\n",
    "model.save('D:\\\\My Research\\SHared Task\\\\Troll Meme\\\\Tamil_troll_memes\\\\tamil_memes_modified_Nusrat\\\\CNN_LSTM_Text_model.h5')   # Saving model"
   ]
  },
  {
   "cell_type": "code",
   "execution_count": 45,
   "metadata": {},
   "outputs": [
    {
     "name": "stderr",
     "output_type": "stream",
     "text": [
      "C:\\Users\\maruf\\Anaconda3\\lib\\site-packages\\ipykernel_launcher.py:2: UserWarning: `Model.predict_generator` is deprecated and will be removed in a future version. Please use `Model.predict`, which supports generators.\n",
      "  \n"
     ]
    },
    {
     "data": {
      "text/plain": [
       "array([1., 1., 1., 1., 1., 0., 1., 1., 1., 1., 1., 1., 1., 1., 0., 1., 1.,\n",
       "       1., 1., 1., 1., 1., 0., 1., 1., 1., 1., 1., 1., 1., 1., 1., 0., 1.,\n",
       "       1., 1., 1., 1., 0., 1., 1., 0., 1., 0., 1., 1., 1., 1., 1., 1., 1.,\n",
       "       1., 1., 0., 1., 0., 0., 1., 1., 1., 1., 1., 1., 0., 1., 1., 1., 1.,\n",
       "       1., 1., 1., 0., 1., 1., 0., 1., 1., 0., 0., 0., 0., 0., 1., 0., 0.,\n",
       "       1., 0., 0., 0., 1., 1., 0., 1., 0., 1., 1., 1., 0., 1., 1., 0., 0.,\n",
       "       0., 0., 1., 1., 0., 1., 1., 1., 1., 1., 0., 0., 1., 1., 0., 1., 1.,\n",
       "       1., 0., 0., 0., 1., 1., 1., 0., 1., 0., 0., 1., 1., 1., 0., 1., 0.,\n",
       "       1., 0., 0., 1., 1., 1., 1., 0., 1., 1., 1., 1., 0., 0., 1., 0., 1.,\n",
       "       0., 1., 1., 1., 1., 1., 1., 0., 1., 1., 0., 0., 1., 1., 1., 0., 1.,\n",
       "       1., 1., 0., 1., 0., 0., 1., 1., 0., 1., 1., 0., 1., 1., 0., 1., 1.,\n",
       "       0., 0., 0., 0., 0., 0., 1., 1., 0., 0., 0., 1., 1., 1., 1., 1., 0.,\n",
       "       1., 1., 0., 1., 0., 1., 1., 1., 0., 1., 0., 1., 0., 1., 1., 1., 0.,\n",
       "       0., 0., 0., 1., 1., 1., 1., 1., 1., 0., 0., 1., 1., 1., 1., 1., 0.,\n",
       "       0., 1., 1., 1., 0., 1., 0., 0., 0., 0., 1., 1., 0., 1., 0., 1., 0.,\n",
       "       1., 1., 1., 1., 1., 1., 0., 0., 1., 1., 0., 1., 1., 1., 0., 1., 1.,\n",
       "       0., 1., 1., 1., 1., 1., 1., 1., 1., 1., 1., 0., 1., 0., 0., 1., 1.,\n",
       "       0., 1., 1., 0., 0., 0., 1., 1., 1., 1., 1., 1., 1., 1., 1., 1., 1.,\n",
       "       1., 0., 0., 1., 1., 1., 1., 0., 1., 1., 1., 1., 1., 1., 1., 1., 1.,\n",
       "       0., 0., 1., 1., 1., 1., 1., 1., 1., 0., 1., 0., 0., 1., 0., 1., 0.,\n",
       "       1., 1., 1., 1., 1., 1., 1., 1., 1., 1., 1., 1., 0., 1., 1., 1., 1.,\n",
       "       1., 0., 1., 1., 0., 1., 0., 1., 1., 1., 0., 1., 1., 0., 1., 1., 1.,\n",
       "       1., 1., 1., 1., 1., 1., 1., 1., 0., 0., 1., 1., 1., 1., 1., 0., 1.,\n",
       "       1., 0., 1., 1., 1., 1., 1., 1., 1., 1., 1., 0., 1., 1., 1., 1., 1.,\n",
       "       1., 1., 1., 1., 1., 1., 1., 1., 1., 1., 1., 0., 1., 1., 1., 1., 1.,\n",
       "       1., 1., 0., 1., 0., 0., 1., 1., 1., 1., 1., 1., 1., 1., 1., 1., 1.,\n",
       "       1., 1., 0., 1., 1., 1., 1., 1., 1., 1., 1., 1., 0., 1., 1., 1., 1.,\n",
       "       0., 1., 1., 1., 1., 1., 0., 1., 1., 0., 1., 1., 1., 1., 1., 1., 0.,\n",
       "       1., 1., 1., 1., 1., 1., 1., 1., 1., 1., 1., 1., 1., 1., 1., 1., 1.,\n",
       "       1., 1., 1., 1., 0., 1., 0., 1., 1., 1., 0., 1., 0., 1., 1., 1., 1.,\n",
       "       1., 1., 0., 1., 1., 0., 1., 1., 0., 1., 1., 1., 1., 1., 1., 1., 1.,\n",
       "       1., 1., 1., 1., 1., 1., 1., 0., 0., 1., 1., 0., 1., 1., 1., 1., 0.,\n",
       "       1., 1., 1., 1., 1., 1., 1., 1., 1., 1., 1., 1., 1., 1., 1., 1., 1.,\n",
       "       1., 1., 1., 1., 1., 1., 1., 1., 1., 1., 1., 1., 1., 0., 1., 1., 0.,\n",
       "       1., 1., 1., 1., 1., 1., 0., 1., 0., 1., 1., 1., 1., 1., 1., 1., 1.,\n",
       "       1., 0., 1., 0., 1., 1., 1., 1., 1., 1., 1., 1., 0., 1., 0., 0., 1.,\n",
       "       1., 0., 0., 1., 1., 1., 1., 1., 1., 1., 1., 1., 1., 1., 0., 1., 1.,\n",
       "       1., 1., 1., 1., 1., 0., 1., 0., 1., 1., 1., 1., 1., 1., 0., 1., 0.,\n",
       "       1., 1., 0., 0., 1., 1., 1., 1., 1., 1., 1., 1., 0., 1., 1., 1., 0.,\n",
       "       0., 1., 0., 1.], dtype=float32)"
      ]
     },
     "execution_count": 45,
     "metadata": {},
     "output_type": "execute_result"
    }
   ],
   "source": [
    "#predicting the labels for the test set\n",
    "y_pred_txt = (model1.predict_generator(txt_gen_test, steps=667))\n",
    "y_pred_txt = np.round(list(itertools.chain(*y_pred_txt)))\n",
    "\n",
    "y_pred_txt\n",
    "\n"
   ]
  },
  {
   "cell_type": "code",
   "execution_count": 55,
   "metadata": {},
   "outputs": [],
   "source": [
    "# y_pred_txt = [ int(x) for x in y_pred_txt ]"
   ]
  },
  {
   "cell_type": "code",
   "execution_count": 56,
   "metadata": {},
   "outputs": [],
   "source": [
    "# only_text_df = pd.read_csv('D:\\\\My Research\\SHared Task\\\\Troll Meme\\\\Tamil_troll_memes\\\\tamil_memes_modified_Nusrat\\\\submit1.csv')"
   ]
  },
  {
   "cell_type": "code",
   "execution_count": 57,
   "metadata": {},
   "outputs": [
    {
     "data": {
      "text/plain": [
       "663"
      ]
     },
     "execution_count": 57,
     "metadata": {},
     "output_type": "execute_result"
    }
   ],
   "source": [
    "# count = 0;\n",
    "# for i in y_pred_txt:\n",
    "#     if i == 1:\n",
    "#       only_text_df['label'][count] = \"troll\";\n",
    "#     else:\n",
    "#         only_text_df['label'][count] = \"not_troll\";\n",
    "#     count = count + 1;\n",
    "# count"
   ]
  },
  {
   "cell_type": "code",
   "execution_count": 58,
   "metadata": {},
   "outputs": [],
   "source": [
    "# only_text_df.to_csv('D:\\\\My Research\\SHared Task\\\\Troll Meme\\\\Tamil_troll_memes\\\\tamil_memes_modified_Nusrat\\\\my_submit2_txt.csv')"
   ]
  },
  {
   "cell_type": "code",
   "execution_count": null,
   "metadata": {},
   "outputs": [],
   "source": []
  },
  {
   "cell_type": "code",
   "execution_count": 46,
   "metadata": {},
   "outputs": [
    {
     "name": "stdout",
     "output_type": "stream",
     "text": [
      "Model: \"sequential_3\"\n",
      "_________________________________________________________________\n",
      " Layer (type)                Output Shape              Param #   \n",
      "=================================================================\n",
      " embedding_3 (Embedding)     (None, 1000, 32)          320000    \n",
      "                                                                 \n",
      " conv1d_1 (Conv1D)           (None, 1000, 32)          3104      \n",
      "                                                                 \n",
      " max_pooling1d_1 (MaxPooling  (None, 500, 32)          0         \n",
      " 1D)                                                             \n",
      "                                                                 \n",
      " lstm_3 (LSTM)               (None, 100)               53200     \n",
      "                                                                 \n",
      " dense_3 (Dense)             (None, 1)                 101       \n",
      "                                                                 \n",
      "=================================================================\n",
      "Total params: 376,405\n",
      "Trainable params: 376,405\n",
      "Non-trainable params: 0\n",
      "_________________________________________________________________\n",
      "None\n",
      "Accuracy: 69.39%\n"
     ]
    }
   ],
   "source": [
    "# Final evaluation of the model\n",
    "\n",
    "embedding_vecor_length = 32\n",
    "model1 = Sequential()\n",
    "model1.add(Embedding(10000, embedding_vecor_length, input_length=1000))\n",
    "model1.add(Conv1D(filters=32, kernel_size=3, padding='same', activation='relu'))\n",
    "model1.add(MaxPooling1D(pool_size=2))\n",
    "model1.add(LSTM(100))\n",
    "model1.add(Dense(1, activation='sigmoid'))\n",
    "model1.compile(loss='binary_crossentropy', optimizer='adam', metrics=[f1_m])\n",
    "print(model1.summary())\n",
    "model1.load_weights(filepath)\n",
    "scores = model1.evaluate(x_test, y_test, verbose=0)\n",
    "print(\"Accuracy: %.2f%%\" % (scores[1]*100))"
   ]
  },
  {
   "cell_type": "code",
   "execution_count": 48,
   "metadata": {},
   "outputs": [
    {
     "data": {
      "image/png": "[encoded data removed]",
      "text/plain": [
       "<Figure size 432x288 with 2 Axes>"
      ]
     },
     "metadata": {},
     "output_type": "display_data"
    }
   ],
   "source": [
    "\n",
    "from sklearn.metrics import classification_report, confusion_matrix\n",
    "import itertools\n",
    "\n",
    "labels = ['troll', 'Not_troll']\n",
    "cm = confusion_matrix(y_test, y_pred_txt)\n",
    "\n",
    "ax= plt.subplot()\n",
    "sns.set(font_scale=1.5) # Adjust to fit\n",
    "sns.heatmap(cm, annot=True, fmt='g', ax=ax);  #annot=True to annotate cells, ftm='g' to disable scientific notation\n",
    "\n",
    "# labels, title and ticks\n",
    "label_font = {'size':'13'}  # Adjust to fit\n",
    "ax.set_xlabel('Predicted labels',fontdict=label_font);\n",
    "ax.set_ylabel('True labels',fontdict=label_font); \n",
    "\n",
    "title_font = {'size':'15'}  # Adjust to fit\n",
    "\n",
    "ax.set_title('Confusion Matrix For LSTM+CNN',fontdict=title_font); \n",
    "\n",
    "ax.tick_params(axis='both', which='major', labelsize=10)  # Adjust to fit\n",
    "ax.xaxis.set_ticklabels(['troll', 'Not_troll']); \n",
    "ax.yaxis.set_ticklabels(['troll', 'Not_troll']);\n",
    "\n",
    "plt.savefig('D:\\\\My Research\\\\Shared Task Paper\\\\Troll\\\\Imagesconfusion_matrix_LSTM+CNN.jpg')  "
   ]
  },
  {
   "cell_type": "code",
   "execution_count": 49,
   "metadata": {},
   "outputs": [
    {
     "name": "stdout",
     "output_type": "stream",
     "text": [
      "Classification Report\n",
      "              precision    recall  f1-score   support\n",
      "\n",
      "       troll       0.45      0.27      0.34       272\n",
      "   Not_troll       0.60      0.77      0.68       395\n",
      "\n",
      "   micro avg       0.57      0.57      0.57       667\n",
      "   macro avg       0.53      0.52      0.51       667\n",
      "weighted avg       0.54      0.57      0.54       667\n",
      "\n"
     ]
    }
   ],
   "source": [
    "print('Classification Report')\n",
    "target_names = ['troll', 'Not_troll']\n",
    "print(classification_report(y_test, y_pred_txt, target_names=target_names))"
   ]
  },
  {
   "cell_type": "code",
   "execution_count": null,
   "metadata": {},
   "outputs": [],
   "source": []
  },
  {
   "cell_type": "code",
   "execution_count": null,
   "metadata": {},
   "outputs": [],
   "source": []
  },
  {
   "cell_type": "code",
   "execution_count": null,
   "metadata": {},
   "outputs": [],
   "source": []
  },
  {
   "cell_type": "code",
   "execution_count": 112,
   "metadata": {},
   "outputs": [
    {
     "name": "stdout",
     "output_type": "stream",
     "text": [
      "Model: \"sequential_7\"\n",
      "_________________________________________________________________\n",
      " Layer (type)                Output Shape              Param #   \n",
      "=================================================================\n",
      " embedding_5 (Embedding)     (None, 1000, 100)         1000000   \n",
      "                                                                 \n",
      " conv1d_3 (Conv1D)           (None, 996, 128)          64128     \n",
      "                                                                 \n",
      " global_max_pooling1d (Globa  (None, 128)              0         \n",
      " lMaxPooling1D)                                                  \n",
      "                                                                 \n",
      " dense_7 (Dense)             (None, 10)                1290      \n",
      "                                                                 \n",
      " dense_8 (Dense)             (None, 1)                 11        \n",
      "                                                                 \n",
      "=================================================================\n",
      "Total params: 1,065,429\n",
      "Trainable params: 1,065,429\n",
      "Non-trainable params: 0\n",
      "_________________________________________________________________\n",
      "None\n",
      "Epoch 1/15\n",
      "51/51 [==============================] - 13s 235ms/step - loss: 0.6323 - accuracy: 0.6005 - val_loss: 0.6254 - val_accuracy: 0.5549\n",
      "Epoch 2/15\n",
      "51/51 [==============================] - 11s 221ms/step - loss: 0.4306 - accuracy: 0.8194 - val_loss: 0.4931 - val_accuracy: 0.7745\n",
      "Epoch 3/15\n",
      "51/51 [==============================] - 11s 220ms/step - loss: 0.2548 - accuracy: 0.9072 - val_loss: 0.4893 - val_accuracy: 0.7833\n",
      "Epoch 4/15\n",
      "51/51 [==============================] - 12s 228ms/step - loss: 0.1686 - accuracy: 0.9338 - val_loss: 0.5119 - val_accuracy: 0.7877\n",
      "Epoch 5/15\n",
      "51/51 [==============================] - 12s 231ms/step - loss: 0.1304 - accuracy: 0.9487 - val_loss: 0.5539 - val_accuracy: 0.7862\n",
      "Epoch 6/15\n",
      "51/51 [==============================] - 12s 226ms/step - loss: 0.1179 - accuracy: 0.9481 - val_loss: 0.5578 - val_accuracy: 0.7877\n",
      "Epoch 7/15\n",
      "51/51 [==============================] - 12s 227ms/step - loss: 0.1009 - accuracy: 0.9511 - val_loss: 0.5962 - val_accuracy: 0.7906\n",
      "Epoch 8/15\n",
      "51/51 [==============================] - 12s 244ms/step - loss: 0.0911 - accuracy: 0.9530 - val_loss: 0.5922 - val_accuracy: 0.7687\n",
      "Epoch 9/15\n",
      "51/51 [==============================] - 14s 267ms/step - loss: 0.0840 - accuracy: 0.9524 - val_loss: 0.6195 - val_accuracy: 0.7687\n",
      "Epoch 10/15\n",
      "51/51 [==============================] - 14s 266ms/step - loss: 0.0804 - accuracy: 0.9567 - val_loss: 0.6110 - val_accuracy: 0.7657\n",
      "Epoch 11/15\n",
      "51/51 [==============================] - 12s 245ms/step - loss: 0.0792 - accuracy: 0.9604 - val_loss: 0.6342 - val_accuracy: 0.7994\n",
      "Epoch 12/15\n",
      "51/51 [==============================] - 12s 241ms/step - loss: 0.0781 - accuracy: 0.9623 - val_loss: 0.7211 - val_accuracy: 0.7892\n",
      "Epoch 13/15\n",
      "51/51 [==============================] - 12s 228ms/step - loss: 0.0765 - accuracy: 0.9586 - val_loss: 0.6448 - val_accuracy: 0.7687\n",
      "Epoch 14/15\n",
      "51/51 [==============================] - 11s 225ms/step - loss: 0.0773 - accuracy: 0.9524 - val_loss: 0.6916 - val_accuracy: 0.7906\n",
      "Epoch 15/15\n",
      "51/51 [==============================] - 12s 230ms/step - loss: 0.0781 - accuracy: 0.9579 - val_loss: 0.7056 - val_accuracy: 0.7862\n",
      "51/51 [==============================] - 10s 181ms/step - loss: 0.4008 - f1_m: 0.5801\n",
      "Training Accuracy: 0.5801\n",
      "Testing Accuracy:  0.6706\n"
     ]
    }
   ],
   "source": [
    "# Define CNN architecture\n",
    "\n",
    "embedding_dim = 100\n",
    "\n",
    "model_cnn = Sequential()\n",
    "model_cnn.add(keras.layers.Embedding(10000, embedding_dim, input_length=maxlen))\n",
    "model_cnn.add(keras.layers.Conv1D(128, 5, activation='relu'))\n",
    "model_cnn.add(keras.layers.GlobalMaxPooling1D())\n",
    "model_cnn.add(keras.layers.Dense(10, activation='relu'))\n",
    "model_cnn.add(keras.layers.Dense(1, activation='sigmoid'))\n",
    "model_cnn.compile(optimizer='adam',\n",
    "              loss='binary_crossentropy',\n",
    "              metrics=['accuracy'])\n",
    "print(model_cnn.summary())\n",
    "\n",
    "# Fit model\n",
    "# history = model_cnn.fit(x_train, y_train,\n",
    "#                     epochs=5,\n",
    "#                     verbose=True,\n",
    "#                     validation_data=(x_test, y_test),\n",
    "#                     batch_size=10)\n",
    "\n",
    "history = model_cnn.fit(x_train, y_train, epochs=15, batch_size=32,verbose = 1 , validation_data=(x_val,y_val))\n",
    "\n",
    "\n",
    "loss, accuracy = model.evaluate(x_train, y_train, verbose=True)\n",
    "print(\"Training Accuracy: {:.4f}\".format(accuracy))\n",
    "loss, accuracy = model.evaluate(x_test, y_test, verbose=False)\n",
    "print(\"Testing Accuracy:  {:.4f}\".format(accuracy))"
   ]
  },
  {
   "cell_type": "code",
   "execution_count": 117,
   "metadata": {},
   "outputs": [
    {
     "name": "stderr",
     "output_type": "stream",
     "text": [
      "C:\\Users\\maruf\\Anaconda3\\lib\\site-packages\\ipykernel_launcher.py:2: UserWarning: `Model.predict_generator` is deprecated and will be removed in a future version. Please use `Model.predict`, which supports generators.\n",
      "  \n"
     ]
    }
   ],
   "source": [
    "#predicting the labels for the test set\n",
    "y_pred_txt = (model_cnn.predict_generator(txt_gen_test, steps=667))\n",
    "y_pred_txt_cnn = np.round(list(itertools.chain(*y_pred_txt)))\n",
    "\n",
    "#y_pred_txt\n"
   ]
  },
  {
   "cell_type": "code",
   "execution_count": 119,
   "metadata": {},
   "outputs": [
    {
     "name": "stdout",
     "output_type": "stream",
     "text": [
      "Classification Report\n",
      "              precision    recall  f1-score   support\n",
      "\n",
      "       troll       0.42      0.26      0.32       272\n",
      "   Not_troll       0.60      0.74      0.66       395\n",
      "\n",
      "   micro avg       0.55      0.55      0.55       667\n",
      "   macro avg       0.51      0.50      0.49       667\n",
      "weighted avg       0.52      0.55      0.52       667\n",
      "\n"
     ]
    }
   ],
   "source": [
    "print('Classification Report')\n",
    "target_names = ['troll', 'Not_troll']\n",
    "print(classification_report(y_test, y_pred_txt_cnn, target_names=target_names))"
   ]
  },
  {
   "cell_type": "code",
   "execution_count": 121,
   "metadata": {},
   "outputs": [
    {
     "data": {
      "image/png": "[encoded data removed]",
      "text/plain": [
       "<Figure size 432x288 with 2 Axes>"
      ]
     },
     "metadata": {},
     "output_type": "display_data"
    }
   ],
   "source": [
    "\n",
    "from sklearn.metrics import classification_report, confusion_matrix\n",
    "import itertools\n",
    "\n",
    "labels = ['troll', 'Not_troll']\n",
    "cm = confusion_matrix(y_test, y_pred_txt)\n",
    "\n",
    "ax= plt.subplot()\n",
    "sns.set(font_scale=1.5) # Adjust to fit\n",
    "sns.heatmap(cm, annot=True, fmt='g', ax=ax);  #annot=True to annotate cells, ftm='g' to disable scientific notation\n",
    "\n",
    "# labels, title and ticks\n",
    "label_font = {'size':'13'}  # Adjust to fit\n",
    "ax.set_xlabel('Predicted labels',fontdict=label_font);\n",
    "ax.set_ylabel('True labels',fontdict=label_font); \n",
    "\n",
    "title_font = {'size':'15'}  # Adjust to fit\n",
    "\n",
    "ax.set_title('Confusion Matrix For CNN',fontdict=title_font); \n",
    "\n",
    "ax.tick_params(axis='both', which='major', labelsize=10)  # Adjust to fit\n",
    "ax.xaxis.set_ticklabels(['troll', 'Not_troll']); \n",
    "ax.yaxis.set_ticklabels(['troll', 'Not_troll']);\n",
    "\n",
    "plt.savefig('D:\\\\My Research\\\\Shared Task Paper\\\\Troll\\\\Imagesconfusion_matrix_CNN_text_f1_52.jpg')  "
   ]
  },
  {
   "cell_type": "code",
   "execution_count": null,
   "metadata": {},
   "outputs": [],
   "source": []
  },
  {
   "cell_type": "code",
   "execution_count": null,
   "metadata": {},
   "outputs": [],
   "source": []
  },
  {
   "cell_type": "code",
   "execution_count": null,
   "metadata": {},
   "outputs": [],
   "source": []
  },
  {
   "cell_type": "code",
   "execution_count": null,
   "metadata": {},
   "outputs": [],
   "source": []
  },
  {
   "cell_type": "code",
   "execution_count": 31,
   "metadata": {
    "id": "9uu9qnRJWiE7"
   },
   "outputs": [],
   "source": [
    "#Image Model\n"
   ]
  },
  {
   "cell_type": "code",
   "execution_count": 52,
   "metadata": {},
   "outputs": [],
   "source": [
    "import os\n",
    "os.environ[\"CUDA_DEVICE_ORDER\"]=\"PCI_BUS_ID\"\n",
    "os.environ[\"CUDA_VISIBLE_DEVICES\"]=\"0\"\n",
    "os.environ[\"OMP_NUM_THREADS\"] = \"4\""
   ]
  },
  {
   "cell_type": "code",
   "execution_count": 53,
   "metadata": {},
   "outputs": [],
   "source": [
    "from keras import regularizers"
   ]
  },
  {
   "cell_type": "code",
   "execution_count": 54,
   "metadata": {},
   "outputs": [],
   "source": [
    "import keras\n",
    "import tensorflow\n",
    "from tensorflow.keras.applications.mobilenet import MobileNet"
   ]
  },
  {
   "cell_type": "code",
   "execution_count": 55,
   "metadata": {},
   "outputs": [],
   "source": [
    "import keras\n",
    "from keras import backend as K\n",
    "from keras.layers.core import Dense, Activation, Dropout\n",
    "\n",
    "from keras.metrics import categorical_crossentropy\n",
    "from keras.preprocessing.image import ImageDataGenerator\n",
    "from keras.preprocessing import image\n",
    "from keras.models import Model\n",
    "from keras.applications import imagenet_utils\n",
    "from keras.layers import Dense,GlobalAveragePooling2D\n",
    "from tensorflow.keras.applications import MobileNet, VGG16, xception, ResNet50\n",
    "from keras.applications.mobilenet import preprocess_input\n",
    "from keras.applications.vgg16 import preprocess_input\n",
    "# from keras.applications.xception import preprocess_input\n",
    "from tensorflow.keras.applications.resnet50 import preprocess_input\n",
    "import numpy as np\n",
    "from IPython.display import Image\n"
   ]
  },
  {
   "cell_type": "code",
   "execution_count": 56,
   "metadata": {},
   "outputs": [],
   "source": [
    "#Importing all the libraries needed\n",
    "import keras\n",
    "import tensorflow\n",
    "import h5py\n",
    "from keras import optimizers, preprocessing, Input\n",
    "from keras.models import load_model, Model\n",
    "from keras.layers import Bidirectional\n",
    "from keras.layers.core import Reshape, Dropout\n",
    "from keras.utils.vis_utils import  plot_model\n",
    "import os\n",
    "import itertools\n",
    "import matplotlib.pyplot as plt\n",
    "from keras.layers import Conv1D, MaxPooling1D, Flatten, GlobalAveragePooling3D\n",
    "from keras import regularizers\n",
    "import seaborn as sns\n",
    "from sklearn.metrics import confusion_matrix\n",
    "from keras.applications.inception_v3 import InceptionV3\n",
    "import nltk\n",
    "import pandas as pd\n",
    "from sklearn.preprocessing import LabelEncoder\n",
    "import re\n",
    "from nltk.corpus import stopwords\n",
    "from nltk import word_tokenize\n",
    "from keras.preprocessing import image\n",
    "from keras.applications.vgg16 import VGG16, preprocess_input\n",
    "from keras.preprocessing.text import Tokenizer\n",
    "import numpy as np\n",
    "from keras.layers import Dense, GlobalAveragePooling2D, Embedding, LSTM, multiply\n",
    "from PIL import Image, ImageFile\n",
    "from sklearn.model_selection import train_test_split"
   ]
  },
  {
   "cell_type": "code",
   "execution_count": 57,
   "metadata": {},
   "outputs": [
    {
     "name": "stderr",
     "output_type": "stream",
     "text": [
      "C:\\Users\\maruf\\Anaconda3\\lib\\site-packages\\keras\\optimizer_v2\\adam.py:105: UserWarning: The `lr` argument is deprecated, use `learning_rate` instead.\n",
      "  super(Adam, self).__init__(name, **kwargs)\n"
     ]
    }
   ],
   "source": [
    "#model with adam optimizer\n",
    "adam = tensorflow.keras.optimizers.Adam(lr=0.001, beta_1=0.9, beta_2=0.999, epsilon=None, decay=0.0, amsgrad=False)\n",
    "sgd = tensorflow.keras.optimizers.SGD(learning_rate=0.001, decay=1e-6, momentum=0.9, nesterov=True)\n",
    "adadelta = tensorflow.keras.optimizers.Adadelta(learning_rate=1.0, rho=0.9, epsilon=None, decay=0.0)"
   ]
  },
  {
   "cell_type": "code",
   "execution_count": 58,
   "metadata": {},
   "outputs": [],
   "source": [
    "path_troll = os.path.realpath(\"D:\\\\My Research\\\\SHared Task\\\\Troll Meme\\\\Tamil_troll_memes\\\\tamil_memes_modified_Nusrat\\\\Troll_meme\\\\train\\\\troll\")\n",
    "path_NOT = os.path.realpath(\"D:\\\\My Research\\\\SHared Task\\\\Troll Meme\\\\Tamil_troll_memes\\\\tamil_memes_modified_Nusrat\\\\Troll_meme\\\\train\\\\Not_troll\")"
   ]
  },
  {
   "cell_type": "code",
   "execution_count": 59,
   "metadata": {},
   "outputs": [
    {
     "data": {
      "text/plain": [
       "'D:\\\\My Research\\\\SHared Task\\\\Troll Meme\\\\Tamil_troll_memes\\\\tamil_memes_modified_Nusrat\\\\Troll_meme\\\\train\\\\troll'"
      ]
     },
     "execution_count": 59,
     "metadata": {},
     "output_type": "execute_result"
    }
   ],
   "source": [
    "path_troll"
   ]
  },
  {
   "cell_type": "code",
   "execution_count": 60,
   "metadata": {},
   "outputs": [],
   "source": [
    "troll_img = os.listdir(path_troll)\n",
    "dir_troll = [os.path.join(path_troll, filename) for filename in troll_img]\n",
    "Not_troll_img = os.listdir(path_NOT)\n",
    "dir_not = [os.path.join(path_NOT, filename) for filename in Not_troll_img]"
   ]
  },
  {
   "cell_type": "code",
   "execution_count": 61,
   "metadata": {},
   "outputs": [
    {
     "name": "stdout",
     "output_type": "stream",
     "text": [
      "# of troll images:  951 \n",
      " # of not troll images:  666\n"
     ]
    }
   ],
   "source": [
    "print(\"# of troll images: \", len(troll_img), '\\n',\n",
    "      \"# of not troll images: \", len(Not_troll_img))"
   ]
  },
  {
   "cell_type": "code",
   "execution_count": 62,
   "metadata": {},
   "outputs": [],
   "source": [
    "\n",
    "def prepare_image(file):\n",
    "    img_path = ''\n",
    "    img = image.load_img(img_path + file, target_size=(224, 224))\n",
    "    img_array = image.img_to_array(img)\n",
    "    img_array_expanded_dims = np.expand_dims(img_array, axis=0)\n",
    "    return keras.applications.vgg16.preprocess_input(img_array_expanded_dims)"
   ]
  },
  {
   "cell_type": "code",
   "execution_count": 63,
   "metadata": {},
   "outputs": [],
   "source": [
    "def Image_model(base_model):\n",
    "  #freezing all the trainable layers\n",
    "  for layer in base_model.layers:\n",
    "    layer.trainable = False\n",
    "  #create output layer\n",
    "  x = base_model.output\n",
    "  #pooling layer before the output\n",
    "  x = GlobalAveragePooling2D()(x)\n",
    "  return x"
   ]
  },
  {
   "cell_type": "code",
   "execution_count": 64,
   "metadata": {},
   "outputs": [],
   "source": [
    "\n",
    "pre_trained_image_model_vgg16 = VGG16(include_top=False, weights='D:\\\\My Research\\\\SHared Task\\\\vgg16_weights_tf_dim_ordering_tf_kernels_notop.h5',input_shape=(224,224) + (3,))\n",
    "base_model_loaded = Image_model(pre_trained_image_model_vgg16)\n",
    "flatten_layer = Flatten()(base_model_loaded)\n",
    "dropout_layer = Dropout(0.5)(flatten_layer)\n",
    "image_pred_layer = Dense(1, activation='sigmoid')(dropout_layer)\n",
    "image_only_model = Model(inputs = [pre_trained_image_model_vgg16.input], outputs = image_pred_layer)\n"
   ]
  },
  {
   "cell_type": "code",
   "execution_count": null,
   "metadata": {},
   "outputs": [],
   "source": []
  },
  {
   "cell_type": "code",
   "execution_count": 65,
   "metadata": {},
   "outputs": [
    {
     "name": "stdout",
     "output_type": "stream",
     "text": [
      "0 input_1\n",
      "1 block1_conv1\n",
      "2 block1_conv2\n",
      "3 block1_pool\n",
      "4 block2_conv1\n",
      "5 block2_conv2\n",
      "6 block2_pool\n",
      "7 block3_conv1\n",
      "8 block3_conv2\n",
      "9 block3_conv3\n",
      "10 block3_pool\n",
      "11 block4_conv1\n",
      "12 block4_conv2\n",
      "13 block4_conv3\n",
      "14 block4_pool\n",
      "15 block5_conv1\n",
      "16 block5_conv2\n",
      "17 block5_conv3\n",
      "18 block5_pool\n",
      "19 global_average_pooling2d\n",
      "20 flatten\n",
      "21 dropout\n",
      "22 dense_4\n"
     ]
    }
   ],
   "source": [
    "for i,layer in enumerate(image_only_model.layers):\n",
    "    print(i,layer.name)"
   ]
  },
  {
   "cell_type": "code",
   "execution_count": 66,
   "metadata": {},
   "outputs": [
    {
     "name": "stdout",
     "output_type": "stream",
     "text": [
      "Found 1617 images belonging to 2 classes.\n",
      "Found 683 images belonging to 2 classes.\n"
     ]
    }
   ],
   "source": [
    "train_datagen=ImageDataGenerator(preprocessing_function=preprocess_input) #included in our dependencies\n",
    "test_generator=ImageDataGenerator(preprocessing_function=preprocess_input)\n",
    "\n",
    "train_generator=train_datagen.flow_from_directory('D:\\\\My Research\\\\SHared Task\\\\Troll Meme\\\\Tamil_troll_memes\\\\tamil_memes_modified_Nusrat\\\\Troll_meme\\\\train\\\\',\n",
    "                                                 target_size=(224,224),\n",
    "                                                 color_mode='rgb',\n",
    "                                                 batch_size=32,\n",
    "                                                 class_mode='binary',\n",
    "                                                 shuffle=True)\n",
    "\n",
    "valid_generator = test_generator.flow_from_directory('D:\\\\My Research\\\\SHared Task\\\\Troll Meme\\\\Tamil_troll_memes\\\\tamil_memes_modified_Nusrat\\\\Troll_meme\\\\test\\\\',\n",
    "                                                 target_size=(224,224),\n",
    "                                                 color_mode='rgb',\n",
    "                                                 batch_size=32,\n",
    "                                                 class_mode='binary',\n",
    "                                                 shuffle=True)\n",
    "\n",
    "\n",
    "# test_generator = test_generator.flow_from_directory('D:\\\\My Research\\\\SHared Task\\\\Troll Meme\\\\Tamil_troll_memes\\\\test_img\\\\',\n",
    "#                                                  target_size=(224,224),\n",
    "#                                                   color_mode='rgb',\n",
    "#                                                   batch_size=1,\n",
    "#                                                   class_mode='binary',\n",
    "#                                                  shuffle=True)"
   ]
  },
  {
   "cell_type": "code",
   "execution_count": 67,
   "metadata": {},
   "outputs": [
    {
     "data": {
      "text/plain": [
       "array([0, 0, 0, ..., 1, 1, 1])"
      ]
     },
     "execution_count": 67,
     "metadata": {},
     "output_type": "execute_result"
    }
   ],
   "source": [
    "train_generator.classes"
   ]
  },
  {
   "cell_type": "code",
   "execution_count": 68,
   "metadata": {},
   "outputs": [
    {
     "data": {
      "text/plain": [
       "array([0, 1])"
      ]
     },
     "execution_count": 68,
     "metadata": {},
     "output_type": "execute_result"
    }
   ],
   "source": [
    "np.unique(train_generator.classes)"
   ]
  },
  {
   "cell_type": "code",
   "execution_count": 69,
   "metadata": {},
   "outputs": [],
   "source": [
    "# Addressing imbalanced data with class weights\n",
    "from sklearn.utils import class_weight\n",
    "class_weights = class_weight.compute_class_weight('balanced',\n",
    "                                                 np.unique(train_generator.classes),\n",
    "                                                 train_generator.classes)"
   ]
  },
  {
   "cell_type": "code",
   "execution_count": 19,
   "metadata": {},
   "outputs": [
    {
     "data": {
      "text/plain": [
       "array([1.21396396, 0.85015773])"
      ]
     },
     "execution_count": 19,
     "metadata": {},
     "output_type": "execute_result"
    }
   ],
   "source": [
    "class_weights"
   ]
  },
  {
   "cell_type": "code",
   "execution_count": 70,
   "metadata": {},
   "outputs": [
    {
     "name": "stderr",
     "output_type": "stream",
     "text": [
      "C:\\Users\\maruf\\Anaconda3\\lib\\site-packages\\ipykernel_launcher.py:9: UserWarning: `Model.fit_generator` is deprecated and will be removed in a future version. Please use `Model.fit`, which supports generators.\n",
      "  if __name__ == '__main__':\n"
     ]
    },
    {
     "name": "stdout",
     "output_type": "stream",
     "text": [
      "Epoch 1/7\n",
      "50/50 [==============================] - 527s 11s/step - loss: 1.9257 - accuracy: 0.6479\n",
      "Epoch 2/7\n",
      "50/50 [==============================] - 533s 11s/step - loss: 1.3192 - accuracy: 0.7237\n",
      "Epoch 3/7\n",
      "50/50 [==============================] - 519s 10s/step - loss: 1.0566 - accuracy: 0.7565\n",
      "Epoch 4/7\n",
      "50/50 [==============================] - 547s 11s/step - loss: 0.9292 - accuracy: 0.7861\n",
      "Epoch 5/7\n",
      "50/50 [==============================] - 544s 11s/step - loss: 0.7915 - accuracy: 0.8013\n",
      "Epoch 6/7\n",
      "50/50 [==============================] - 507s 10s/step - loss: 0.6698 - accuracy: 0.8158\n",
      "Epoch 7/7\n",
      "50/50 [==============================] - 548s 11s/step - loss: 0.6354 - accuracy: 0.8164\n"
     ]
    },
    {
     "data": {
      "text/plain": [
       "<keras.callbacks.History at 0x1ff5c991080>"
      ]
     },
     "execution_count": 70,
     "metadata": {},
     "output_type": "execute_result"
    }
   ],
   "source": [
    "image_only_model.compile(optimizer=adam,loss='binary_crossentropy',metrics=['accuracy'])\n",
    "# Adam optimizer\n",
    "# loss function will be categorical cross entropy\n",
    "# evaluation metric will be accuracy\n",
    "\n",
    "step_size_train=train_generator.n//train_generator.batch_size\n",
    "image_only_model.fit_generator(generator=train_generator,\n",
    "                   steps_per_epoch=step_size_train,\n",
    "                   epochs=7)"
   ]
  },
  {
   "cell_type": "code",
   "execution_count": 73,
   "metadata": {},
   "outputs": [
    {
     "name": "stdout",
     "output_type": "stream",
     "text": [
      "Found 667 images belonging to 2 classes.\n"
     ]
    }
   ],
   "source": [
    "test_generator=ImageDataGenerator(preprocessing_function=preprocess_input)\n",
    "\n",
    "\n",
    "test_generator = test_generator.flow_from_directory('D:\\\\My Research\\\\SHared Task\\\\Troll Meme\\\\Tamil_troll_memes\\\\tamil_memes_modified_Nusrat\\\\Troll_meme\\\\gold_label_test_img',\n",
    "                                                 target_size=(224,224),\n",
    "                                                  color_mode='rgb',\n",
    "                                                  batch_size=1,\n",
    "                                                  class_mode='binary',\n",
    "                                                 shuffle=True)"
   ]
  },
  {
   "cell_type": "code",
   "execution_count": 74,
   "metadata": {
    "id": "3WNiNVM6WiBq"
   },
   "outputs": [
    {
     "name": "stderr",
     "output_type": "stream",
     "text": [
      "C:\\Users\\maruf\\Anaconda3\\lib\\site-packages\\ipykernel_launcher.py:5: UserWarning: `Model.predict_generator` is deprecated and will be removed in a future version. Please use `Model.predict`, which supports generators.\n",
      "  \"\"\"\n"
     ]
    },
    {
     "name": "stdout",
     "output_type": "stream",
     "text": [
      "Confusion Matrix\n",
      "[[ 31 241]\n",
      " [ 41 354]]\n",
      "Classification Report\n",
      "              precision    recall  f1-score   support\n",
      "\n",
      "       troll       0.43      0.11      0.18       272\n",
      "   Not_troll       0.59      0.90      0.72       395\n",
      "\n",
      "   micro avg       0.58      0.58      0.58       667\n",
      "   macro avg       0.51      0.51      0.45       667\n",
      "weighted avg       0.53      0.58      0.50       667\n",
      "\n"
     ]
    }
   ],
   "source": [
    "from sklearn.metrics import classification_report, confusion_matrix\n",
    "import itertools\n",
    "\n",
    "#Confution Matrix and Classification Report\n",
    "Y_pred = image_only_model.predict_generator(test_generator, steps=667)\n",
    "y_pred = np.round(list(itertools.chain(*Y_pred)))\n",
    "print('Confusion Matrix')\n",
    "print(confusion_matrix(test_generator.classes, y_pred))\n",
    "print('Classification Report')\n",
    "target_names = ['troll', 'Not_troll']\n",
    "print(classification_report(test_generator.classes, y_pred, target_names=target_names))"
   ]
  },
  {
   "cell_type": "code",
   "execution_count": 75,
   "metadata": {},
   "outputs": [
    {
     "data": {
      "image/png": "[encoded data removed]",
      "text/plain": [
       "<Figure size 432x288 with 2 Axes>"
      ]
     },
     "metadata": {},
     "output_type": "display_data"
    }
   ],
   "source": [
    "\n",
    "from sklearn.metrics import classification_report, confusion_matrix\n",
    "import itertools\n",
    "\n",
    "labels = ['troll', 'Not_troll']\n",
    "cm = confusion_matrix(test_generator.classes, y_pred)\n",
    "\n",
    "ax= plt.subplot()\n",
    "sns.set(font_scale=1.5) # Adjust to fit\n",
    "sns.heatmap(cm, annot=True, fmt='g', ax=ax);  #annot=True to annotate cells, ftm='g' to disable scientific notation\n",
    "\n",
    "# labels, title and ticks\n",
    "label_font = {'size':'13'}  # Adjust to fit\n",
    "ax.set_xlabel('Predicted labels',fontdict=label_font);\n",
    "ax.set_ylabel('True labels',fontdict=label_font); \n",
    "\n",
    "title_font = {'size':'15'}  # Adjust to fit\n",
    "\n",
    "ax.set_title('Confusion Matrix For VGG16',fontdict=title_font); \n",
    "\n",
    "ax.tick_params(axis='both', which='major', labelsize=10)  # Adjust to fit\n",
    "ax.xaxis.set_ticklabels(['troll', 'Not_troll']); \n",
    "ax.yaxis.set_ticklabels(['troll', 'Not_troll']);\n",
    "\n",
    "plt.savefig('D:\\\\My Research\\\\Shared Task Paper\\\\Troll\\\\Images\\\\confusion_matrix_VGG16_f1_50.jpg')  "
   ]
  },
  {
   "cell_type": "code",
   "execution_count": null,
   "metadata": {},
   "outputs": [],
   "source": []
  },
  {
   "cell_type": "code",
   "execution_count": 81,
   "metadata": {},
   "outputs": [],
   "source": [
    "# Y_pred = [ int(x) for x in Y_pred ]"
   ]
  },
  {
   "cell_type": "code",
   "execution_count": 82,
   "metadata": {},
   "outputs": [],
   "source": [
    "# only_text_df = pd.read_csv('D:\\\\My Research\\SHared Task\\\\Troll Meme\\\\Tamil_troll_memes\\\\tamil_memes_modified_Nusrat\\\\submit1.csv')"
   ]
  },
  {
   "cell_type": "code",
   "execution_count": 83,
   "metadata": {},
   "outputs": [
    {
     "data": {
      "text/plain": [
       "663"
      ]
     },
     "execution_count": 83,
     "metadata": {},
     "output_type": "execute_result"
    }
   ],
   "source": [
    "# count = 0;\n",
    "# for i in y_pred_txt:\n",
    "#     if i == 0:\n",
    "#       only_text_df['label'][count] = \"troll\";\n",
    "#     else:\n",
    "#         only_text_df['label'][count] = \"not_troll\";\n",
    "#     count = count + 1;\n",
    "# count"
   ]
  },
  {
   "cell_type": "code",
   "execution_count": null,
   "metadata": {
    "id": "J0KH3Et2bIW5"
   },
   "outputs": [],
   "source": []
  },
  {
   "cell_type": "code",
   "execution_count": 84,
   "metadata": {
    "id": "hWpvaSljbIT8"
   },
   "outputs": [],
   "source": [
    "# only_text_df.to_csv('D:\\\\My Research\\SHared Task\\\\Troll Meme\\\\Tamil_troll_memes\\\\tamil_memes_modified_Nusrat\\\\my_submit1_img_vgg16.csv', index = 'false')"
   ]
  },
  {
   "cell_type": "code",
   "execution_count": null,
   "metadata": {
    "id": "VnMG2rIgbINe"
   },
   "outputs": [],
   "source": []
  },
  {
   "cell_type": "code",
   "execution_count": null,
   "metadata": {
    "id": "u7mqxX1ObIKn"
   },
   "outputs": [],
   "source": []
  },
  {
   "cell_type": "code",
   "execution_count": null,
   "metadata": {
    "id": "gKjJoDqObIEl"
   },
   "outputs": [],
   "source": []
  },
  {
   "cell_type": "code",
   "execution_count": null,
   "metadata": {},
   "outputs": [],
   "source": []
  },
  {
   "cell_type": "code",
   "execution_count": null,
   "metadata": {},
   "outputs": [],
   "source": []
  },
  {
   "cell_type": "code",
   "execution_count": null,
   "metadata": {},
   "outputs": [],
   "source": []
  },
  {
   "cell_type": "code",
   "execution_count": 76,
   "metadata": {},
   "outputs": [],
   "source": [
    "def create_img_array(img_dirct):\n",
    "    all_imgs = []\n",
    "    for root, j, files in os.walk(img_dirct):\n",
    "        for file in files:\n",
    "            file = root + '/' + file\n",
    "            all_imgs.append(file)\n",
    "    return all_imgs\n",
    "\n",
    "def create_img_path(DF, Col_name, img_dir):\n",
    "    img_path = [img_dir + '/' + name for name in DF[Col_name]]\n",
    "    return img_path"
   ]
  },
  {
   "cell_type": "code",
   "execution_count": null,
   "metadata": {},
   "outputs": [],
   "source": []
  },
  {
   "cell_type": "code",
   "execution_count": 77,
   "metadata": {
    "id": "SPliz1IEbIBd"
   },
   "outputs": [],
   "source": [
    "# Processing image \n",
    "img_dir = \"D:\\\\My Research\\SHared Task\\\\Troll Meme\\\\Tamil_troll_memes\\\\uploaded_tamil_memes\"\n",
    "\n",
    "img_dir_test = \"D:\\\\My Research\\\\SHared Task\\\\Troll Meme\\\\Tamil_troll_memes\\\\test_img\""
   ]
  },
  {
   "cell_type": "code",
   "execution_count": 78,
   "metadata": {},
   "outputs": [],
   "source": [
    "train_img_path = create_img_path(training_df,'image_name', img_dir)\n",
    "test_img_path = create_img_path(testing_df,'image_name', img_dir_test)\n",
    "val_img_path = create_img_path(validation_df,'image_name', img_dir)\n",
    "\n"
   ]
  },
  {
   "cell_type": "code",
   "execution_count": 79,
   "metadata": {},
   "outputs": [],
   "source": [
    "def img_text_generator(files, padded_seq, y, batch_size=None):\n",
    "    \"\"\"\n",
    "        padded_seq: vectorized padded text sequence \n",
    "        y: label of the text\n",
    "        batch_size: Number of observations to be selected at a time\n",
    "        \n",
    "        return: generator object of text data\n",
    "    \"\"\"\n",
    "    while True:\n",
    "        batch_idxs = np.random.choice(a = list(range(len(padded_seq))), size=batch_size) #Selecting the random batch indexes    \n",
    "        batch_input_txt = [] # Initializing batch input text\n",
    "        batch_input_img = [] # Initializing batch input image\n",
    "        batch_output = [] # Initializing batch output\n",
    "        \n",
    "        # Traversing through the batch indexes\n",
    "        for batch_idx in batch_idxs:\n",
    "            input_txt = padded_seq[batch_idx] # selecting padded sequences from the batch\n",
    "            output = y[batch_idx] # Selecting label  \n",
    "            input_img = get_input(files[batch_idx])\n",
    "            input_img = process_input(input_img)\n",
    "            batch_input_txt.append(input_txt) # Appending the input (text vector)\n",
    "            batch_input_img.append(input_img[0])\n",
    "            batch_output.append(output) # Appending the label\n",
    "        \n",
    "        # Return a tuple of (input,output) to feed the network\n",
    "        batch_x1 = np.array( batch_input_img )\n",
    "        batch_x2 = np.array( batch_input_txt )\n",
    "        batch_y = np.array( batch_output )\n",
    "        yield ([batch_x1, batch_x2], batch_y)"
   ]
  },
  {
   "cell_type": "code",
   "execution_count": 80,
   "metadata": {},
   "outputs": [],
   "source": [
    "\n",
    "# Creating train, test, val, generator for meme\n",
    "img_txt_gen_train = img_text_generator(train_img_path, x_train, y_train, batch_size=32)\n",
    "img_txt_gen_test = img_text_generator(test_img_path, x_test, y_test, batch_size=1)\n",
    "img_txt_gen_val = img_text_generator(val_img_path, x_val, y_val, batch_size=1)"
   ]
  },
  {
   "cell_type": "code",
   "execution_count": null,
   "metadata": {},
   "outputs": [],
   "source": []
  },
  {
   "cell_type": "code",
   "execution_count": null,
   "metadata": {},
   "outputs": [],
   "source": []
  },
  {
   "cell_type": "code",
   "execution_count": null,
   "metadata": {},
   "outputs": [],
   "source": []
  },
  {
   "cell_type": "code",
   "execution_count": null,
   "metadata": {},
   "outputs": [],
   "source": []
  },
  {
   "cell_type": "code",
   "execution_count": null,
   "metadata": {},
   "outputs": [],
   "source": []
  },
  {
   "cell_type": "code",
   "execution_count": null,
   "metadata": {},
   "outputs": [],
   "source": []
  },
  {
   "cell_type": "code",
   "execution_count": null,
   "metadata": {},
   "outputs": [],
   "source": []
  },
  {
   "cell_type": "code",
   "execution_count": null,
   "metadata": {},
   "outputs": [],
   "source": []
  },
  {
   "cell_type": "code",
   "execution_count": 90,
   "metadata": {
    "id": "IA5PMMtZ2qBx"
   },
   "outputs": [],
   "source": [
    "#Multimodal using LSTM + VGG16"
   ]
  },
  {
   "cell_type": "code",
   "execution_count": 81,
   "metadata": {
    "id": "oA90m73b2p7_"
   },
   "outputs": [],
   "source": [
    "model.compile(loss='binary_crossentropy', optimizer=adam, metrics=[f1_m])\n",
    "image_only_model.compile(loss='binary_crossentropy', optimizer=adam, metrics=[f1_m])"
   ]
  },
  {
   "cell_type": "code",
   "execution_count": 82,
   "metadata": {
    "id": "_HUYD1tm2p30"
   },
   "outputs": [],
   "source": [
    "#concatenating the output of both the classifiers(text and image)\n",
    "con_layer = keras.layers.concatenate([model.output, image_only_model.output])\n",
    "out = Dense(1, activation='sigmoid')(con_layer)"
   ]
  },
  {
   "cell_type": "code",
   "execution_count": 83,
   "metadata": {
    "id": "nQ6rITNe2pxk"
   },
   "outputs": [],
   "source": [
    "#Common Model\n",
    "com_model = Model(inputs = [image_only_model.input, model.input], outputs=out)"
   ]
  },
  {
   "cell_type": "code",
   "execution_count": 85,
   "metadata": {
    "id": "cI7XYjpg2puj"
   },
   "outputs": [],
   "source": [
    "\n",
    "com_model.compile(loss='binary_crossentropy', optimizer=adam, metrics=['accuracy'])"
   ]
  },
  {
   "cell_type": "code",
   "execution_count": 86,
   "metadata": {
    "id": "cKTlpe4VchJB"
   },
   "outputs": [
    {
     "name": "stderr",
     "output_type": "stream",
     "text": [
      "C:\\Users\\maruf\\Anaconda3\\lib\\site-packages\\ipykernel_launcher.py:2: UserWarning: `Model.fit_generator` is deprecated and will be removed in a future version. Please use `Model.fit`, which supports generators.\n",
      "  \n"
     ]
    },
    {
     "name": "stdout",
     "output_type": "stream",
     "text": [
      "Epoch 1/10\n",
      "50/50 [==============================] - 1281s 26s/step - loss: 0.6585 - accuracy: 0.5881 - val_loss: 0.6621 - val_accuracy: 0.4758\n",
      "Epoch 2/10\n",
      "50/50 [==============================] - 1321s 27s/step - loss: 0.6109 - accuracy: 0.5938 - val_loss: 0.6359 - val_accuracy: 0.5124\n",
      "Epoch 3/10\n",
      "50/50 [==============================] - 1241s 25s/step - loss: 0.5839 - accuracy: 0.5831 - val_loss: 0.6317 - val_accuracy: 0.4700\n",
      "Epoch 4/10\n",
      "50/50 [==============================] - 1183s 24s/step - loss: 0.5574 - accuracy: 0.6006 - val_loss: 0.6197 - val_accuracy: 0.4832\n",
      "Epoch 5/10\n",
      "50/50 [==============================] - 1217s 25s/step - loss: 0.5413 - accuracy: 0.5906 - val_loss: 0.5940 - val_accuracy: 0.4861\n",
      "Epoch 6/10\n",
      "50/50 [==============================] - 1419s 29s/step - loss: 0.5194 - accuracy: 0.6000 - val_loss: 0.5865 - val_accuracy: 0.4919\n",
      "Epoch 7/10\n",
      "50/50 [==============================] - 1376s 28s/step - loss: 0.5161 - accuracy: 0.5788 - val_loss: 0.5911 - val_accuracy: 0.6354\n",
      "Epoch 8/10\n",
      "50/50 [==============================] - 1401s 28s/step - loss: 0.4929 - accuracy: 0.8400 - val_loss: 0.5870 - val_accuracy: 0.7745\n",
      "Epoch 9/10\n",
      "50/50 [==============================] - 1304s 26s/step - loss: 0.4880 - accuracy: 0.8669 - val_loss: 0.5446 - val_accuracy: 0.8419\n",
      "Epoch 10/10\n",
      "50/50 [==============================] - 1295s 26s/step - loss: 0.4730 - accuracy: 0.9025 - val_loss: 0.5376 - val_accuracy: 0.8565\n"
     ]
    }
   ],
   "source": [
    "#Training the combined model\n",
    "model3 = com_model.fit_generator(img_txt_gen_train, epochs=10, validation_steps = 683, steps_per_epoch=50, validation_data=img_txt_gen_val, shuffle=False)"
   ]
  },
  {
   "cell_type": "code",
   "execution_count": 87,
   "metadata": {
    "id": "FHU5sqMOcr6k"
   },
   "outputs": [],
   "source": [
    "\n",
    "com_model.save('D:\\\\My Research\\SHared Task\\\\Troll Meme\\\\Tamil_troll_memes\\\\tamil_memes_modified_Nusrat\\\\LSTM_VGG16_Multimodl_model.h5')   # Saving model"
   ]
  },
  {
   "cell_type": "code",
   "execution_count": 88,
   "metadata": {},
   "outputs": [
    {
     "name": "stderr",
     "output_type": "stream",
     "text": [
      "C:\\Users\\maruf\\Anaconda3\\lib\\site-packages\\ipykernel_launcher.py:5: UserWarning: `Model.predict_generator` is deprecated and will be removed in a future version. Please use `Model.predict`, which supports generators.\n",
      "  \"\"\"\n"
     ]
    }
   ],
   "source": [
    "from sklearn.metrics import classification_report, confusion_matrix\n",
    "import itertools\n",
    "\n",
    "#Confution Matrix and Classification Report\n",
    "Y_pred = com_model.predict_generator(img_txt_gen_test, steps=667)\n",
    "y_pred_com = np.round(list(itertools.chain(*Y_pred)))\n",
    "\n",
    "#Y_pred = [ int(x) for x in Y_pred ]\n"
   ]
  },
  {
   "cell_type": "code",
   "execution_count": 91,
   "metadata": {},
   "outputs": [
    {
     "name": "stdout",
     "output_type": "stream",
     "text": [
      "Classification Report\n",
      "              precision    recall  f1-score   support\n",
      "\n",
      "       troll       0.22      0.01      0.01       272\n",
      "   Not_troll       0.59      0.98      0.74       395\n",
      "\n",
      "   micro avg       0.58      0.58      0.58       667\n",
      "   macro avg       0.41      0.49      0.38       667\n",
      "weighted avg       0.44      0.58      0.44       667\n",
      "\n"
     ]
    }
   ],
   "source": [
    "print('Classification Report')\n",
    "target_names = ['troll', 'Not_troll']\n",
    "print(classification_report(y_test, y_pred_com, target_names=target_names))"
   ]
  },
  {
   "cell_type": "code",
   "execution_count": 93,
   "metadata": {},
   "outputs": [
    {
     "data": {
      "image/png": "[encoded data removed]",
      "text/plain": [
       "<Figure size 432x288 with 2 Axes>"
      ]
     },
     "metadata": {},
     "output_type": "display_data"
    }
   ],
   "source": [
    "\n",
    "from sklearn.metrics import classification_report, confusion_matrix\n",
    "import itertools\n",
    "\n",
    "labels = ['troll', 'Not_troll']\n",
    "cm = confusion_matrix(y_test, y_pred_com)\n",
    "\n",
    "ax= plt.subplot()\n",
    "sns.set(font_scale=1.5) # Adjust to fit\n",
    "sns.heatmap(cm, annot=True, fmt='g', ax=ax);  #annot=True to annotate cells, ftm='g' to disable scientific notation\n",
    "\n",
    "# labels, title and ticks\n",
    "label_font = {'size':'13'}  # Adjust to fit\n",
    "ax.set_xlabel('Predicted labels',fontdict=label_font);\n",
    "ax.set_ylabel('True labels',fontdict=label_font); \n",
    "\n",
    "title_font = {'size':'15'}  # Adjust to fit\n",
    "\n",
    "ax.set_title('Confusion Matrix For LSTM+VGG16',fontdict=title_font); \n",
    "\n",
    "ax.tick_params(axis='both', which='major', labelsize=10)  # Adjust to fit\n",
    "ax.xaxis.set_ticklabels(['troll', 'Not_troll']); \n",
    "ax.yaxis.set_ticklabels(['troll', 'Not_troll']);\n",
    "\n",
    "plt.savefig('D:\\\\My Research\\\\Shared Task Paper\\\\Troll\\\\Images\\\\confusion_matrix_LSTM+VGG16_f1_44.jpg')  "
   ]
  },
  {
   "cell_type": "code",
   "execution_count": null,
   "metadata": {},
   "outputs": [],
   "source": []
  },
  {
   "cell_type": "code",
   "execution_count": 98,
   "metadata": {},
   "outputs": [
    {
     "name": "stdout",
     "output_type": "stream",
     "text": [
      "663\n"
     ]
    }
   ],
   "source": [
    "# only_text_df = pd.read_csv('D:\\\\My Research\\SHared Task\\\\Troll Meme\\\\Tamil_troll_memes\\\\tamil_memes_modified_Nusrat\\\\submit1.csv')\n",
    "\n",
    "# count = 0;\n",
    "# for i in y_pred_txt:\n",
    "#     if i == 0:\n",
    "#       only_text_df['label'][count] = \"troll\";\n",
    "#     else:\n",
    "#         only_text_df['label'][count] = \"not_troll\";\n",
    "#     count = count + 1;\n",
    "# print(count);\n",
    "\n",
    "# only_text_df.to_csv('D:\\\\My Research\\SHared Task\\\\Troll Meme\\\\Tamil_troll_memes\\\\tamil_memes_modified_Nusrat\\\\my_submit1_combined.csv', index = 'false')"
   ]
  },
  {
   "cell_type": "code",
   "execution_count": null,
   "metadata": {},
   "outputs": [],
   "source": []
  },
  {
   "cell_type": "code",
   "execution_count": null,
   "metadata": {},
   "outputs": [],
   "source": []
  },
  {
   "cell_type": "code",
   "execution_count": null,
   "metadata": {
    "id": "hJyOwBjHdSie"
   },
   "outputs": [],
   "source": []
  },
  {
   "cell_type": "code",
   "execution_count": 94,
   "metadata": {
    "id": "9PVWYMBpdSfV"
   },
   "outputs": [
    {
     "name": "stderr",
     "output_type": "stream",
     "text": [
      "C:\\Users\\maruf\\Anaconda3\\lib\\site-packages\\ipykernel_launcher.py:2: UserWarning: `Model.evaluate_generator` is deprecated and will be removed in a future version. Please use `Model.evaluate`, which supports generators.\n",
      "  \n"
     ]
    },
    {
     "data": {
      "text/plain": [
       "[0.6993389129638672, 0.6003016829490662]"
      ]
     },
     "execution_count": 94,
     "metadata": {},
     "output_type": "execute_result"
    }
   ],
   "source": [
    "#Evaluating combined model by calculating loss and accuracy using test file\n",
    "com_model.evaluate_generator(img_txt_gen_test, steps=667)"
   ]
  },
  {
   "cell_type": "code",
   "execution_count": null,
   "metadata": {
    "id": "tScesdndgPbE"
   },
   "outputs": [],
   "source": []
  },
  {
   "cell_type": "code",
   "execution_count": null,
   "metadata": {
    "id": "ljdB96PKpxMZ"
   },
   "outputs": [],
   "source": [
    "#plotting validation accuracy\n",
    "plt.plot(model3.history['val_f1_m'],'g')\n",
    "plt.plot(model1.history['val_f1_m'],'b')\n",
    "plt.plot(model2.history['val_f1_m'],'r')\n",
    "plt.title('Model Accuracy')\n",
    "plt.ylabel('Accuracy')\n",
    "plt.xlabel('Epoch')\n",
    "plt.gca().legend(('meme model f1-score', 'text model f1-score', 'image model f1-score'))\n",
    "plt.show()"
   ]
  },
  {
   "cell_type": "code",
   "execution_count": null,
   "metadata": {},
   "outputs": [],
   "source": []
  },
  {
   "cell_type": "code",
   "execution_count": null,
   "metadata": {},
   "outputs": [],
   "source": []
  },
  {
   "cell_type": "code",
   "execution_count": null,
   "metadata": {},
   "outputs": [],
   "source": []
  },
  {
   "cell_type": "code",
   "execution_count": null,
   "metadata": {},
   "outputs": [],
   "source": []
  },
  {
   "cell_type": "code",
   "execution_count": null,
   "metadata": {},
   "outputs": [],
   "source": []
  },
  {
   "cell_type": "code",
   "execution_count": null,
   "metadata": {},
   "outputs": [],
   "source": []
  },
  {
   "cell_type": "code",
   "execution_count": null,
   "metadata": {},
   "outputs": [],
   "source": []
  },
  {
   "cell_type": "code",
   "execution_count": null,
   "metadata": {},
   "outputs": [],
   "source": []
  },
  {
   "cell_type": "code",
   "execution_count": null,
   "metadata": {},
   "outputs": [],
   "source": [
    "#Multimodal using LSTM + CNN + VGG16"
   ]
  },
  {
   "cell_type": "code",
   "execution_count": 95,
   "metadata": {},
   "outputs": [],
   "source": [
    "model1.compile(loss='binary_crossentropy', optimizer=adam, metrics=[f1_m])\n",
    "image_only_model.compile(loss='binary_crossentropy', optimizer=adam, metrics=[f1_m])"
   ]
  },
  {
   "cell_type": "code",
   "execution_count": 96,
   "metadata": {},
   "outputs": [],
   "source": [
    "#concatenating the output of both the classifiers(text and image)\n",
    "con_layer = keras.layers.concatenate([model.output, image_only_model.output])\n",
    "out = Dense(1, activation='sigmoid')(con_layer)"
   ]
  },
  {
   "cell_type": "code",
   "execution_count": 97,
   "metadata": {},
   "outputs": [],
   "source": [
    "#Common Model\n",
    "com_model_1 = Model(inputs = [image_only_model.input, model.input], outputs=out)"
   ]
  },
  {
   "cell_type": "code",
   "execution_count": 98,
   "metadata": {},
   "outputs": [],
   "source": [
    "\n",
    "com_model_1.compile(loss='binary_crossentropy', optimizer=adam, metrics=['accuracy'])"
   ]
  },
  {
   "cell_type": "code",
   "execution_count": 99,
   "metadata": {},
   "outputs": [
    {
     "name": "stderr",
     "output_type": "stream",
     "text": [
      "C:\\Users\\maruf\\Anaconda3\\lib\\site-packages\\ipykernel_launcher.py:2: UserWarning: `Model.fit_generator` is deprecated and will be removed in a future version. Please use `Model.fit`, which supports generators.\n",
      "  \n"
     ]
    },
    {
     "name": "stdout",
     "output_type": "stream",
     "text": [
      "Epoch 1/10\n",
      "50/50 [==============================] - 1263s 25s/step - loss: 0.4559 - accuracy: 0.8669 - val_loss: 0.4869 - val_accuracy: 0.8873\n",
      "Epoch 2/10\n",
      "50/50 [==============================] - 1219s 25s/step - loss: 0.4311 - accuracy: 0.9237 - val_loss: 0.4602 - val_accuracy: 0.8960\n",
      "Epoch 3/10\n",
      "50/50 [==============================] - 1267s 26s/step - loss: 0.3819 - accuracy: 0.9406 - val_loss: 0.4363 - val_accuracy: 0.8946\n",
      "Epoch 4/10\n",
      "50/50 [==============================] - 1285s 26s/step - loss: 0.3760 - accuracy: 0.9269 - val_loss: 0.4393 - val_accuracy: 0.8712\n",
      "Epoch 5/10\n",
      "50/50 [==============================] - 1347s 27s/step - loss: 0.3547 - accuracy: 0.9394 - val_loss: 0.4264 - val_accuracy: 0.8902\n",
      "Epoch 6/10\n",
      "50/50 [==============================] - 1388s 28s/step - loss: 0.3514 - accuracy: 0.9294 - val_loss: 0.4265 - val_accuracy: 0.8829\n",
      "Epoch 7/10\n",
      "50/50 [==============================] - 1431s 29s/step - loss: 0.3281 - accuracy: 0.9450 - val_loss: 0.4000 - val_accuracy: 0.8755\n",
      "Epoch 8/10\n",
      "50/50 [==============================] - 1408s 28s/step - loss: 0.3184 - accuracy: 0.9431 - val_loss: 0.3861 - val_accuracy: 0.9136\n",
      "Epoch 9/10\n",
      "50/50 [==============================] - 1418s 29s/step - loss: 0.3091 - accuracy: 0.9463 - val_loss: 0.4009 - val_accuracy: 0.8946\n",
      "Epoch 10/10\n",
      "50/50 [==============================] - 1387s 28s/step - loss: 0.3006 - accuracy: 0.9425 - val_loss: 0.4041 - val_accuracy: 0.8565\n"
     ]
    }
   ],
   "source": [
    "#Training the combined model\n",
    "model_1_combined = com_model_1.fit_generator(img_txt_gen_train, epochs=10, validation_steps = 683, steps_per_epoch=50, validation_data=img_txt_gen_val, shuffle=False)"
   ]
  },
  {
   "cell_type": "code",
   "execution_count": 106,
   "metadata": {},
   "outputs": [],
   "source": [
    "\n",
    "com_model_1.save('D:\\\\My Research\\SHared Task\\\\Troll Meme\\\\Tamil_troll_memes\\\\tamil_memes_modified_Nusrat\\\\CNN_LSTM_VGG16_Multimodl_model_1.h5')   # Saving model"
   ]
  },
  {
   "cell_type": "code",
   "execution_count": 114,
   "metadata": {},
   "outputs": [
    {
     "name": "stderr",
     "output_type": "stream",
     "text": [
      "C:\\Users\\maruf\\Anaconda3\\lib\\site-packages\\ipykernel_launcher.py:5: UserWarning: `Model.predict_generator` is deprecated and will be removed in a future version. Please use `Model.predict`, which supports generators.\n",
      "  \"\"\"\n"
     ]
    }
   ],
   "source": [
    "from sklearn.metrics import classification_report, confusion_matrix\n",
    "import itertools\n",
    "\n",
    "#Confution Matrix and Classification Report\n",
    "Y_pred = com_model_1.predict_generator(img_txt_gen_test, steps=667)\n",
    "y_pred_com = np.round(list(itertools.chain(*Y_pred)))\n",
    "\n",
    "#Y_pred = [ int(x) for x in Y_pred ]"
   ]
  },
  {
   "cell_type": "code",
   "execution_count": 115,
   "metadata": {},
   "outputs": [
    {
     "name": "stdout",
     "output_type": "stream",
     "text": [
      "Classification Report\n",
      "              precision    recall  f1-score   support\n",
      "\n",
      "       troll       0.34      0.04      0.08       272\n",
      "   Not_troll       0.59      0.94      0.72       395\n",
      "\n",
      "   micro avg       0.58      0.58      0.58       667\n",
      "   macro avg       0.47      0.49      0.40       667\n",
      "weighted avg       0.49      0.58      0.46       667\n",
      "\n"
     ]
    }
   ],
   "source": [
    "print('Classification Report')\n",
    "target_names = ['troll', 'Not_troll']\n",
    "print(classification_report(y_test, y_pred_com, target_names=target_names))"
   ]
  },
  {
   "cell_type": "code",
   "execution_count": 116,
   "metadata": {},
   "outputs": [
    {
     "data": {
      "image/png": "[encoded data removed]",
      "text/plain": [
       "<Figure size 432x288 with 2 Axes>"
      ]
     },
     "metadata": {},
     "output_type": "display_data"
    }
   ],
   "source": [
    "\n",
    "from sklearn.metrics import classification_report, confusion_matrix\n",
    "import itertools\n",
    "\n",
    "labels = ['troll', 'Not_troll']\n",
    "cm = confusion_matrix(y_test, y_pred_com)\n",
    "\n",
    "ax= plt.subplot()\n",
    "sns.set(font_scale=1.5) # Adjust to fit\n",
    "sns.heatmap(cm, annot=True, fmt='g', ax=ax);  #annot=True to annotate cells, ftm='g' to disable scientific notation\n",
    "\n",
    "# labels, title and ticks\n",
    "label_font = {'size':'13'}  # Adjust to fit\n",
    "ax.set_xlabel('Predicted labels',fontdict=label_font);\n",
    "ax.set_ylabel('True labels',fontdict=label_font); \n",
    "\n",
    "title_font = {'size':'15'}  # Adjust to fit\n",
    "\n",
    "ax.set_title('Confusion Matrix For  CNN+LSTM+VGG16',fontdict=title_font); \n",
    "\n",
    "ax.tick_params(axis='both', which='major', labelsize=10)  # Adjust to fit\n",
    "ax.xaxis.set_ticklabels(['troll', 'Not_troll']); \n",
    "ax.yaxis.set_ticklabels(['troll', 'Not_troll']);\n",
    "\n",
    "plt.savefig('D:\\\\My Research\\\\Shared Task Paper\\\\Troll\\\\Images\\\\confusion_matrix_CNN_LSTM+VGG16_f1_46.jpg')  "
   ]
  },
  {
   "cell_type": "code",
   "execution_count": null,
   "metadata": {},
   "outputs": [],
   "source": []
  },
  {
   "cell_type": "code",
   "execution_count": null,
   "metadata": {},
   "outputs": [],
   "source": []
  },
  {
   "cell_type": "code",
   "execution_count": null,
   "metadata": {},
   "outputs": [],
   "source": []
  },
  {
   "cell_type": "code",
   "execution_count": null,
   "metadata": {},
   "outputs": [],
   "source": []
  },
  {
   "cell_type": "code",
   "execution_count": null,
   "metadata": {},
   "outputs": [],
   "source": []
  },
  {
   "cell_type": "code",
   "execution_count": null,
   "metadata": {},
   "outputs": [],
   "source": []
  },
  {
   "cell_type": "code",
   "execution_count": null,
   "metadata": {},
   "outputs": [],
   "source": [
    "#CNN+Vgg16"
   ]
  },
  {
   "cell_type": "code",
   "execution_count": 122,
   "metadata": {},
   "outputs": [],
   "source": [
    "model_cnn.compile(loss='binary_crossentropy', optimizer=adam, metrics=[f1_m])\n",
    "image_only_model.compile(loss='binary_crossentropy', optimizer=adam, metrics=[f1_m])"
   ]
  },
  {
   "cell_type": "code",
   "execution_count": 123,
   "metadata": {},
   "outputs": [],
   "source": [
    "#concatenating the output of both the classifiers(text and image)\n",
    "con_layer = keras.layers.concatenate([model_cnn.output, image_only_model.output])\n",
    "out = Dense(1, activation='sigmoid')(con_layer)"
   ]
  },
  {
   "cell_type": "code",
   "execution_count": 124,
   "metadata": {},
   "outputs": [],
   "source": [
    "#Common Model\n",
    "com_model_2 = Model(inputs = [image_only_model.input, model_cnn.input], outputs=out)"
   ]
  },
  {
   "cell_type": "code",
   "execution_count": 125,
   "metadata": {},
   "outputs": [],
   "source": [
    "\n",
    "com_model_2.compile(loss='binary_crossentropy', optimizer=adam, metrics=['accuracy'])"
   ]
  },
  {
   "cell_type": "code",
   "execution_count": 126,
   "metadata": {},
   "outputs": [
    {
     "name": "stderr",
     "output_type": "stream",
     "text": [
      "C:\\Users\\maruf\\Anaconda3\\lib\\site-packages\\ipykernel_launcher.py:2: UserWarning: `Model.fit_generator` is deprecated and will be removed in a future version. Please use `Model.fit`, which supports generators.\n",
      "  \n"
     ]
    },
    {
     "name": "stdout",
     "output_type": "stream",
     "text": [
      "Epoch 1/10\n",
      "50/50 [==============================] - 730s 15s/step - loss: 0.4435 - accuracy: 0.9181 - val_loss: 0.5263 - val_accuracy: 0.9107\n",
      "Epoch 2/10\n",
      "50/50 [==============================] - 746s 15s/step - loss: 0.4011 - accuracy: 0.9488 - val_loss: 0.5248 - val_accuracy: 0.8755\n",
      "Epoch 3/10\n",
      "50/50 [==============================] - 713s 14s/step - loss: 0.3649 - accuracy: 0.9488 - val_loss: 0.4657 - val_accuracy: 0.9151\n",
      "Epoch 4/10\n",
      "50/50 [==============================] - 762s 15s/step - loss: 0.3497 - accuracy: 0.9525 - val_loss: 0.4809 - val_accuracy: 0.8697\n",
      "Epoch 5/10\n",
      "50/50 [==============================] - 764s 15s/step - loss: 0.3254 - accuracy: 0.9619 - val_loss: 0.4548 - val_accuracy: 0.8946\n",
      "Epoch 6/10\n",
      "50/50 [==============================] - 810s 16s/step - loss: 0.3077 - accuracy: 0.9556 - val_loss: 0.4474 - val_accuracy: 0.8785\n",
      "Epoch 7/10\n",
      "50/50 [==============================] - 743s 15s/step - loss: 0.2957 - accuracy: 0.9556 - val_loss: 0.4518 - val_accuracy: 0.8770\n",
      "Epoch 8/10\n",
      "50/50 [==============================] - 702s 14s/step - loss: 0.2820 - accuracy: 0.9619 - val_loss: 0.4213 - val_accuracy: 0.8931\n",
      "Epoch 9/10\n",
      "50/50 [==============================] - 769s 15s/step - loss: 0.2778 - accuracy: 0.9569 - val_loss: 0.4111 - val_accuracy: 0.8726\n",
      "Epoch 10/10\n",
      "50/50 [==============================] - 781s 16s/step - loss: 0.2694 - accuracy: 0.9594 - val_loss: 0.3944 - val_accuracy: 0.8990\n"
     ]
    }
   ],
   "source": [
    "#Training the combined model\n",
    "model_2_combined = com_model_2.fit_generator(img_txt_gen_train, epochs=10, validation_steps = 683, steps_per_epoch=50, validation_data=img_txt_gen_val, shuffle=False)"
   ]
  },
  {
   "cell_type": "code",
   "execution_count": 127,
   "metadata": {},
   "outputs": [],
   "source": [
    "\n",
    "com_model_2.save('D:\\\\My Research\\SHared Task\\\\Troll Meme\\\\Tamil_troll_memes\\\\tamil_memes_modified_Nusrat\\\\CNN_LSTM_VGG16_Multimodl_model_2.h5')   # Saving model"
   ]
  },
  {
   "cell_type": "code",
   "execution_count": 128,
   "metadata": {},
   "outputs": [
    {
     "name": "stderr",
     "output_type": "stream",
     "text": [
      "C:\\Users\\maruf\\Anaconda3\\lib\\site-packages\\ipykernel_launcher.py:5: UserWarning: `Model.predict_generator` is deprecated and will be removed in a future version. Please use `Model.predict`, which supports generators.\n",
      "  \"\"\"\n"
     ]
    }
   ],
   "source": [
    "from sklearn.metrics import classification_report, confusion_matrix\n",
    "import itertools\n",
    "\n",
    "#Confution Matrix and Classification Report\n",
    "Y_pred = com_model_2.predict_generator(img_txt_gen_test, steps=667)\n",
    "y_pred_com_2 = np.round(list(itertools.chain(*Y_pred)))\n",
    "\n",
    "#Y_pred = [ int(x) for x in Y_pred ]\n"
   ]
  },
  {
   "cell_type": "code",
   "execution_count": 129,
   "metadata": {},
   "outputs": [
    {
     "name": "stdout",
     "output_type": "stream",
     "text": [
      "Classification Report\n",
      "              precision    recall  f1-score   support\n",
      "\n",
      "       troll       0.49      0.08      0.13       272\n",
      "   Not_troll       0.60      0.94      0.73       395\n",
      "\n",
      "   micro avg       0.59      0.59      0.59       667\n",
      "   macro avg       0.54      0.51      0.43       667\n",
      "weighted avg       0.55      0.59      0.49       667\n",
      "\n"
     ]
    }
   ],
   "source": [
    "print('Classification Report')\n",
    "target_names = ['troll', 'Not_troll']\n",
    "print(classification_report(y_test, y_pred_com_2, target_names=target_names))"
   ]
  },
  {
   "cell_type": "code",
   "execution_count": 131,
   "metadata": {},
   "outputs": [
    {
     "data": {
      "image/png": "[encoded data removed]",
      "text/plain": [
       "<Figure size 432x288 with 2 Axes>"
      ]
     },
     "metadata": {},
     "output_type": "display_data"
    }
   ],
   "source": [
    "\n",
    "from sklearn.metrics import classification_report, confusion_matrix\n",
    "import itertools\n",
    "\n",
    "labels = ['troll', 'Not_troll']\n",
    "cm = confusion_matrix(y_test, y_pred_com_2)\n",
    "\n",
    "ax= plt.subplot()\n",
    "sns.set(font_scale=1.5) # Adjust to fit\n",
    "sns.heatmap(cm, annot=True, fmt='g', ax=ax);  #annot=True to annotate cells, ftm='g' to disable scientific notation\n",
    "\n",
    "# labels, title and ticks\n",
    "label_font = {'size':'13'}  # Adjust to fit\n",
    "ax.set_xlabel('Predicted labels',fontdict=label_font);\n",
    "ax.set_ylabel('True labels',fontdict=label_font); \n",
    "\n",
    "title_font = {'size':'15'}  # Adjust to fit\n",
    "\n",
    "ax.set_title('Confusion Matrix For  CNN+VGG16',fontdict=title_font); \n",
    "\n",
    "ax.tick_params(axis='both', which='major', labelsize=10)  # Adjust to fit\n",
    "ax.xaxis.set_ticklabels(['troll', 'Not_troll']); \n",
    "ax.yaxis.set_ticklabels(['troll', 'Not_troll']);\n",
    "\n",
    "plt.savefig('D:\\\\My Research\\\\Shared Task Paper\\\\Troll\\\\Images\\\\confusion_matrix_CNN+VGG16_f1_49.jpg')  "
   ]
  },
  {
   "cell_type": "code",
   "execution_count": null,
   "metadata": {},
   "outputs": [],
   "source": []
  },
  {
   "cell_type": "code",
   "execution_count": null,
   "metadata": {},
   "outputs": [],
   "source": []
  }
 ],
 "metadata": {
  "colab": {
   "collapsed_sections": [],
   "name": "LSTM+VGG16_(Text + Image+Combine).ipynb",
   "provenance": []
  },
  "kernelspec": {
   "display_name": "Python 3",
   "language": "python",
   "name": "python3"
  },
  "language_info": {
   "codemirror_mode": {
    "name": "ipython",
    "version": 3
   },
   "file_extension": ".py",
   "mimetype": "text/x-python",
   "name": "python",
   "nbconvert_exporter": "python",
   "pygments_lexer": "ipython3",
   "version": "3.7.3"
  }
 },
 "nbformat": 4,
 "nbformat_minor": 1
}
